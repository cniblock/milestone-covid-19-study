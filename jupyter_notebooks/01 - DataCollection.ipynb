{
  "cells": [
    {
      "cell_type": "markdown",
      "metadata": {
        "id": "0aStgWSO0E0E"
      },
      "source": [
        "# **Data Collection Notebook**"
      ]
    },
    {
      "cell_type": "markdown",
      "metadata": {
        "id": "1eLEkw5O0ECa"
      },
      "source": [
        "## Objectives\n",
        "\n",
        "* Fetch Data from Kaggle and save as raw file and unzip.\n",
        "* Inspect the data and save it under inputs/datasets/raw\n",
        "* Inspect the data and save it under outputs/datasets/collection\n",
        "\n",
        "## Inputs\n",
        "\n",
        "* Kaggle JSON file - the authentication token.\n",
        "\n",
        "## Outputs\n",
        "\n",
        "* Generate Dataset: outputs/datasets/collection/trimmed_covid_dataset.csv\n",
        "\n",
        "## Additional Comments\n",
        "\n",
        "* The Dataset originally contained over 1 million patients. That was trimmed to 51,000.\n"
      ]
    },
    {
      "cell_type": "markdown",
      "metadata": {
        "id": "9uWZXH9LwoQg"
      },
      "source": [
        "---"
      ]
    },
    {
      "cell_type": "markdown",
      "metadata": {
        "id": "cqP-UeN-z3i2"
      },
      "source": [
        "# Change working directory"
      ]
    },
    {
      "cell_type": "markdown",
      "metadata": {},
      "source": [
        "* We are assuming you will store the notebooks in a subfolder, therefore when running the notebook in the editor, you will need to change the working directory"
      ]
    },
    {
      "cell_type": "markdown",
      "metadata": {
        "id": "aOGIGS-uz3i2"
      },
      "source": [
        "We need to change the working directory from its current folder to its parent folder\n",
        "* We access the current directory with os.getcwd()"
      ]
    },
    {
      "cell_type": "code",
      "execution_count": 1,
      "metadata": {
        "id": "wZfF_j-Bz3i4",
        "outputId": "66943449-1436-4c3d-85c7-b85f9f78349b"
      },
      "outputs": [
        {
          "data": {
            "text/plain": [
              "'/workspace/milestone-covid-19-study/jupyter_notebooks'"
            ]
          },
          "execution_count": 1,
          "metadata": {},
          "output_type": "execute_result"
        }
      ],
      "source": [
        "import os\n",
        "current_dir = os.getcwd()\n",
        "current_dir"
      ]
    },
    {
      "cell_type": "markdown",
      "metadata": {
        "id": "9MWW8E7lz3i7"
      },
      "source": [
        "We want to make the parent of the current directory the new current directory\n",
        "* os.path.dirname() gets the parent directory\n",
        "* os.chir() defines the new current directory"
      ]
    },
    {
      "cell_type": "code",
      "execution_count": 2,
      "metadata": {
        "id": "TwHsQRWjz3i9",
        "outputId": "86849db3-cd2f-4cc5-ebb8-2d0caafa1a2c"
      },
      "outputs": [
        {
          "name": "stdout",
          "output_type": "stream",
          "text": [
            "You set a new current directory\n"
          ]
        }
      ],
      "source": [
        "os.chdir(os.path.dirname(current_dir))\n",
        "print(\"You set a new current directory\")"
      ]
    },
    {
      "cell_type": "markdown",
      "metadata": {
        "id": "M_xPk_Ijz3i-"
      },
      "source": [
        "Confirm the new current directory"
      ]
    },
    {
      "cell_type": "code",
      "execution_count": 3,
      "metadata": {
        "id": "vz3S-_kjz3jA",
        "outputId": "00b79ae4-75d0-4a96-d193-ac9ef9847ea2"
      },
      "outputs": [
        {
          "data": {
            "text/plain": [
              "'/workspace/milestone-covid-19-study'"
            ]
          },
          "execution_count": 3,
          "metadata": {},
          "output_type": "execute_result"
        }
      ],
      "source": [
        "current_dir = os.getcwd()\n",
        "current_dir"
      ]
    },
    {
      "cell_type": "markdown",
      "metadata": {
        "id": "-mavJ8DibrcQ"
      },
      "source": [
        "# Install and fetch data from Kaggle"
      ]
    },
    {
      "cell_type": "markdown",
      "metadata": {},
      "source": [
        "Install Kaggle packages"
      ]
    },
    {
      "cell_type": "code",
      "execution_count": 4,
      "metadata": {},
      "outputs": [
        {
          "name": "stdout",
          "output_type": "stream",
          "text": [
            "Requirement already satisfied: kaggle==1.5.12 in /workspace/.pip-modules/lib/python3.8/site-packages (1.5.12)\n",
            "Requirement already satisfied: six>=1.10 in /home/gitpod/.pyenv/versions/3.8.18/lib/python3.8/site-packages (from kaggle==1.5.12) (1.16.0)\n",
            "Requirement already satisfied: certifi in /home/gitpod/.pyenv/versions/3.8.18/lib/python3.8/site-packages (from kaggle==1.5.12) (2024.6.2)\n",
            "Requirement already satisfied: python-dateutil in /home/gitpod/.pyenv/versions/3.8.18/lib/python3.8/site-packages (from kaggle==1.5.12) (2.9.0.post0)\n",
            "Requirement already satisfied: requests in /home/gitpod/.pyenv/versions/3.8.18/lib/python3.8/site-packages (from kaggle==1.5.12) (2.32.3)\n",
            "Requirement already satisfied: tqdm in /workspace/.pip-modules/lib/python3.8/site-packages (from kaggle==1.5.12) (4.66.4)\n",
            "Requirement already satisfied: python-slugify in /workspace/.pip-modules/lib/python3.8/site-packages (from kaggle==1.5.12) (8.0.4)\n",
            "Requirement already satisfied: urllib3 in /home/gitpod/.pyenv/versions/3.8.18/lib/python3.8/site-packages (from kaggle==1.5.12) (2.2.2)\n",
            "Requirement already satisfied: text-unidecode>=1.3 in /workspace/.pip-modules/lib/python3.8/site-packages (from python-slugify->kaggle==1.5.12) (1.3)\n",
            "Requirement already satisfied: charset-normalizer<4,>=2 in /home/gitpod/.pyenv/versions/3.8.18/lib/python3.8/site-packages (from requests->kaggle==1.5.12) (3.3.2)\n",
            "Requirement already satisfied: idna<4,>=2.5 in /home/gitpod/.pyenv/versions/3.8.18/lib/python3.8/site-packages (from requests->kaggle==1.5.12) (3.7)\n",
            "Note: you may need to restart the kernel to use updated packages.\n"
          ]
        }
      ],
      "source": [
        "%pip install kaggle==1.5.12"
      ]
    },
    {
      "cell_type": "markdown",
      "metadata": {},
      "source": [
        "Add kaggle.json token"
      ]
    },
    {
      "cell_type": "code",
      "execution_count": 5,
      "metadata": {},
      "outputs": [],
      "source": [
        "import os\n",
        "os.environ['KAGGLE_CONFIG_DIR'] = os.getcwd()\n",
        "! chmod 600 kaggle.json"
      ]
    },
    {
      "cell_type": "markdown",
      "metadata": {},
      "source": [
        "Define the Kaggle dataset, and destination folder and download it."
      ]
    },
    {
      "cell_type": "code",
      "execution_count": 6,
      "metadata": {},
      "outputs": [
        {
          "name": "stdout",
          "output_type": "stream",
          "text": [
            "Downloading covid19-dataset.zip to inputs/datasets/raw\n",
            " 64%|████████████████████████▍             | 3.00M/4.66M [00:00<00:00, 5.56MB/s]\n",
            "100%|██████████████████████████████████████| 4.66M/4.66M [00:00<00:00, 6.74MB/s]\n"
          ]
        }
      ],
      "source": [
        "KaggleDatasetPath = \"meirnizri/covid19-dataset\"\n",
        "DestinationFolder = \"inputs/datasets/raw\"   \n",
        "! kaggle datasets download -d {KaggleDatasetPath} -p {DestinationFolder}"
      ]
    },
    {
      "cell_type": "markdown",
      "metadata": {},
      "source": [
        "Unzip the downloaded file, delete the zip file and delete the kaggle.json file"
      ]
    },
    {
      "cell_type": "code",
      "execution_count": 7,
      "metadata": {},
      "outputs": [
        {
          "name": "stdout",
          "output_type": "stream",
          "text": [
            "Archive:  inputs/datasets/raw/covid19-dataset.zip\n",
            "  inflating: inputs/datasets/raw/Covid Data.csv  \n"
          ]
        }
      ],
      "source": [
        "! unzip {DestinationFolder}/*.zip -d {DestinationFolder} \\\n",
        "  && rm {DestinationFolder}/*.zip \\\n",
        "  && rm kaggle.json"
      ]
    },
    {
      "cell_type": "markdown",
      "metadata": {
        "id": "ZY3l0-AxO93d"
      },
      "source": [
        "---"
      ]
    },
    {
      "cell_type": "markdown",
      "metadata": {
        "id": "uFQo3ycuO-v6"
      },
      "source": [
        "# Load and Inspect Kaggle Data"
      ]
    },
    {
      "cell_type": "markdown",
      "metadata": {},
      "source": [
        "Import Pandas and Read CSV File"
      ]
    },
    {
      "cell_type": "code",
      "execution_count": 8,
      "metadata": {},
      "outputs": [
        {
          "name": "stdout",
          "output_type": "stream",
          "text": [
            "   USMER  MEDICAL_UNIT  SEX  PATIENT_TYPE   DATE_DIED  INTUBED  PNEUMONIA  \\\n",
            "0      2             1    1             1  03/05/2020       97          1   \n",
            "1      2             1    2             1  03/06/2020       97          1   \n",
            "2      2             1    2             2  09/06/2020        1          2   \n",
            "3      2             1    1             1  12/06/2020       97          2   \n",
            "4      2             1    2             1  21/06/2020       97          2   \n",
            "\n",
            "   AGE  PREGNANT  DIABETES  ...  ASTHMA  INMSUPR  HIPERTENSION  OTHER_DISEASE  \\\n",
            "0   65         2         2  ...       2        2             1              2   \n",
            "1   72        97         2  ...       2        2             1              2   \n",
            "2   55        97         1  ...       2        2             2              2   \n",
            "3   53         2         2  ...       2        2             2              2   \n",
            "4   68        97         1  ...       2        2             1              2   \n",
            "\n",
            "   CARDIOVASCULAR  OBESITY  RENAL_CHRONIC  TOBACCO  CLASIFFICATION_FINAL  ICU  \n",
            "0               2        2              2        2                     3   97  \n",
            "1               2        1              1        2                     5   97  \n",
            "2               2        2              2        2                     3    2  \n",
            "3               2        2              2        2                     7   97  \n",
            "4               2        2              2        2                     3   97  \n",
            "\n",
            "[5 rows x 21 columns]\n",
            "              USMER  MEDICAL_UNIT           SEX  PATIENT_TYPE       INTUBED  \\\n",
            "count  1.048575e+06  1.048575e+06  1.048575e+06  1.048575e+06  1.048575e+06   \n",
            "mean   1.632194e+00  8.980565e+00  1.499259e+00  1.190765e+00  7.952288e+01   \n",
            "std    4.822084e-01  3.723278e+00  4.999997e-01  3.929041e-01  3.686889e+01   \n",
            "min    1.000000e+00  1.000000e+00  1.000000e+00  1.000000e+00  1.000000e+00   \n",
            "25%    1.000000e+00  4.000000e+00  1.000000e+00  1.000000e+00  9.700000e+01   \n",
            "50%    2.000000e+00  1.200000e+01  1.000000e+00  1.000000e+00  9.700000e+01   \n",
            "75%    2.000000e+00  1.200000e+01  2.000000e+00  1.000000e+00  9.700000e+01   \n",
            "max    2.000000e+00  1.300000e+01  2.000000e+00  2.000000e+00  9.900000e+01   \n",
            "\n",
            "          PNEUMONIA           AGE      PREGNANT      DIABETES          COPD  \\\n",
            "count  1.048575e+06  1.048575e+06  1.048575e+06  1.048575e+06  1.048575e+06   \n",
            "mean   3.346831e+00  4.179410e+01  4.976558e+01  2.186404e+00  2.260569e+00   \n",
            "std    1.191288e+01  1.690739e+01  4.751073e+01  5.424242e+00  5.132258e+00   \n",
            "min    1.000000e+00  0.000000e+00  1.000000e+00  1.000000e+00  1.000000e+00   \n",
            "25%    2.000000e+00  3.000000e+01  2.000000e+00  2.000000e+00  2.000000e+00   \n",
            "50%    2.000000e+00  4.000000e+01  9.700000e+01  2.000000e+00  2.000000e+00   \n",
            "75%    2.000000e+00  5.300000e+01  9.700000e+01  2.000000e+00  2.000000e+00   \n",
            "max    9.900000e+01  1.210000e+02  9.800000e+01  9.800000e+01  9.800000e+01   \n",
            "\n",
            "             ASTHMA       INMSUPR  HIPERTENSION  OTHER_DISEASE  \\\n",
            "count  1.048575e+06  1.048575e+06  1.048575e+06   1.048575e+06   \n",
            "mean   2.242626e+00  2.298132e+00  2.128989e+00   2.435143e+00   \n",
            "std    5.114089e+00  5.462843e+00  5.236397e+00   6.646676e+00   \n",
            "min    1.000000e+00  1.000000e+00  1.000000e+00   1.000000e+00   \n",
            "25%    2.000000e+00  2.000000e+00  2.000000e+00   2.000000e+00   \n",
            "50%    2.000000e+00  2.000000e+00  2.000000e+00   2.000000e+00   \n",
            "75%    2.000000e+00  2.000000e+00  2.000000e+00   2.000000e+00   \n",
            "max    9.800000e+01  9.800000e+01  9.800000e+01   9.800000e+01   \n",
            "\n",
            "       CARDIOVASCULAR       OBESITY  RENAL_CHRONIC       TOBACCO  \\\n",
            "count    1.048575e+06  1.048575e+06   1.048575e+06  1.048575e+06   \n",
            "mean     2.261810e+00  2.125176e+00   2.257180e+00  2.214333e+00   \n",
            "std      5.194850e+00  5.175445e+00   5.135354e+00  5.323097e+00   \n",
            "min      1.000000e+00  1.000000e+00   1.000000e+00  1.000000e+00   \n",
            "25%      2.000000e+00  2.000000e+00   2.000000e+00  2.000000e+00   \n",
            "50%      2.000000e+00  2.000000e+00   2.000000e+00  2.000000e+00   \n",
            "75%      2.000000e+00  2.000000e+00   2.000000e+00  2.000000e+00   \n",
            "max      9.800000e+01  9.800000e+01   9.800000e+01  9.800000e+01   \n",
            "\n",
            "       CLASIFFICATION_FINAL           ICU  \n",
            "count          1.048575e+06  1.048575e+06  \n",
            "mean           5.305653e+00  7.955397e+01  \n",
            "std            1.881165e+00  3.682307e+01  \n",
            "min            1.000000e+00  1.000000e+00  \n",
            "25%            3.000000e+00  9.700000e+01  \n",
            "50%            6.000000e+00  9.700000e+01  \n",
            "75%            7.000000e+00  9.700000e+01  \n",
            "max            7.000000e+00  9.900000e+01  \n"
          ]
        }
      ],
      "source": [
        "import pandas as pd\n",
        "df = pd.read_csv(f\"inputs/datasets/raw/Covid Data.csv\")\n",
        "print(df.head())\n",
        "print(df.describe())"
      ]
    },
    {
      "cell_type": "markdown",
      "metadata": {},
      "source": [
        "View DataFrame Summary"
      ]
    },
    {
      "cell_type": "code",
      "execution_count": 9,
      "metadata": {},
      "outputs": [
        {
          "name": "stdout",
          "output_type": "stream",
          "text": [
            "<class 'pandas.core.frame.DataFrame'>\n",
            "RangeIndex: 1048575 entries, 0 to 1048574\n",
            "Data columns (total 21 columns):\n",
            " #   Column                Non-Null Count    Dtype \n",
            "---  ------                --------------    ----- \n",
            " 0   USMER                 1048575 non-null  int64 \n",
            " 1   MEDICAL_UNIT          1048575 non-null  int64 \n",
            " 2   SEX                   1048575 non-null  int64 \n",
            " 3   PATIENT_TYPE          1048575 non-null  int64 \n",
            " 4   DATE_DIED             1048575 non-null  object\n",
            " 5   INTUBED               1048575 non-null  int64 \n",
            " 6   PNEUMONIA             1048575 non-null  int64 \n",
            " 7   AGE                   1048575 non-null  int64 \n",
            " 8   PREGNANT              1048575 non-null  int64 \n",
            " 9   DIABETES              1048575 non-null  int64 \n",
            " 10  COPD                  1048575 non-null  int64 \n",
            " 11  ASTHMA                1048575 non-null  int64 \n",
            " 12  INMSUPR               1048575 non-null  int64 \n",
            " 13  HIPERTENSION          1048575 non-null  int64 \n",
            " 14  OTHER_DISEASE         1048575 non-null  int64 \n",
            " 15  CARDIOVASCULAR        1048575 non-null  int64 \n",
            " 16  OBESITY               1048575 non-null  int64 \n",
            " 17  RENAL_CHRONIC         1048575 non-null  int64 \n",
            " 18  TOBACCO               1048575 non-null  int64 \n",
            " 19  CLASIFFICATION_FINAL  1048575 non-null  int64 \n",
            " 20  ICU                   1048575 non-null  int64 \n",
            "dtypes: int64(20), object(1)\n",
            "memory usage: 168.0+ MB\n"
          ]
        }
      ],
      "source": [
        "df.info()"
      ]
    },
    {
      "cell_type": "markdown",
      "metadata": {},
      "source": [
        "View values in each column"
      ]
    },
    {
      "cell_type": "code",
      "execution_count": 10,
      "metadata": {},
      "outputs": [
        {
          "name": "stdout",
          "output_type": "stream",
          "text": [
            "Value counts for column USMER:\n",
            "2    662903\n",
            "1    385672\n",
            "Name: USMER, dtype: int64\n",
            "\n",
            "\n",
            "Value counts for column MEDICAL_UNIT:\n",
            "12    602995\n",
            "4     314405\n",
            "6      40584\n",
            "9      38116\n",
            "3      19175\n",
            "8      10399\n",
            "10      7873\n",
            "5       7244\n",
            "11      5577\n",
            "13       996\n",
            "7        891\n",
            "2        169\n",
            "1        151\n",
            "Name: MEDICAL_UNIT, dtype: int64\n",
            "\n",
            "\n",
            "Value counts for column SEX:\n",
            "1    525064\n",
            "2    523511\n",
            "Name: SEX, dtype: int64\n",
            "\n",
            "\n",
            "Value counts for column PATIENT_TYPE:\n",
            "1    848544\n",
            "2    200031\n",
            "Name: PATIENT_TYPE, dtype: int64\n",
            "\n",
            "\n",
            "Value counts for column DATE_DIED:\n",
            "9999-99-99    971633\n",
            "06/07/2020      1000\n",
            "07/07/2020       996\n",
            "13/07/2020       990\n",
            "16/06/2020       979\n",
            "               ...  \n",
            "24/11/2020         1\n",
            "17/12/2020         1\n",
            "08/12/2020         1\n",
            "16/03/2021         1\n",
            "22/04/2021         1\n",
            "Name: DATE_DIED, Length: 401, dtype: int64\n",
            "\n",
            "\n",
            "Value counts for column INTUBED:\n",
            "97    848544\n",
            "2     159050\n",
            "1      33656\n",
            "99      7325\n",
            "Name: INTUBED, dtype: int64\n",
            "\n",
            "\n",
            "Value counts for column PNEUMONIA:\n",
            "2     892534\n",
            "1     140038\n",
            "99     16003\n",
            "Name: PNEUMONIA, dtype: int64\n",
            "\n",
            "\n",
            "Value counts for column AGE:\n",
            "30     27010\n",
            "31     25927\n",
            "28     25313\n",
            "29     25134\n",
            "34     24872\n",
            "       ...  \n",
            "114        2\n",
            "116        2\n",
            "111        1\n",
            "121        1\n",
            "113        1\n",
            "Name: AGE, Length: 121, dtype: int64\n",
            "\n",
            "\n",
            "Value counts for column PREGNANT:\n",
            "97    523511\n",
            "2     513179\n",
            "1       8131\n",
            "98      3754\n",
            "Name: PREGNANT, dtype: int64\n",
            "\n",
            "\n",
            "Value counts for column DIABETES:\n",
            "2     920248\n",
            "1     124989\n",
            "98      3338\n",
            "Name: DIABETES, dtype: int64\n",
            "\n",
            "\n",
            "Value counts for column COPD:\n",
            "2     1030510\n",
            "1       15062\n",
            "98       3003\n",
            "Name: COPD, dtype: int64\n",
            "\n",
            "\n",
            "Value counts for column ASTHMA:\n",
            "2     1014024\n",
            "1       31572\n",
            "98       2979\n",
            "Name: ASTHMA, dtype: int64\n",
            "\n",
            "\n",
            "Value counts for column INMSUPR:\n",
            "2     1031001\n",
            "1       14170\n",
            "98       3404\n",
            "Name: INMSUPR, dtype: int64\n",
            "\n",
            "\n",
            "Value counts for column HIPERTENSION:\n",
            "2     882742\n",
            "1     162729\n",
            "98      3104\n",
            "Name: HIPERTENSION, dtype: int64\n",
            "\n",
            "\n",
            "Value counts for column OTHER_DISEASE:\n",
            "2     1015490\n",
            "1       28040\n",
            "98       5045\n",
            "Name: OTHER_DISEASE, dtype: int64\n",
            "\n",
            "\n",
            "Value counts for column CARDIOVASCULAR:\n",
            "2     1024730\n",
            "1       20769\n",
            "98       3076\n",
            "Name: CARDIOVASCULAR, dtype: int64\n",
            "\n",
            "\n",
            "Value counts for column OBESITY:\n",
            "2     885727\n",
            "1     159816\n",
            "98      3032\n",
            "Name: OBESITY, dtype: int64\n",
            "\n",
            "\n",
            "Value counts for column RENAL_CHRONIC:\n",
            "2     1026665\n",
            "1       18904\n",
            "98       3006\n",
            "Name: RENAL_CHRONIC, dtype: int64\n",
            "\n",
            "\n",
            "Value counts for column TOBACCO:\n",
            "2     960979\n",
            "1      84376\n",
            "98      3220\n",
            "Name: TOBACCO, dtype: int64\n",
            "\n",
            "\n",
            "Value counts for column CLASIFFICATION_FINAL:\n",
            "7    499250\n",
            "3    381527\n",
            "6    128133\n",
            "5     26091\n",
            "1      8601\n",
            "4      3122\n",
            "2      1851\n",
            "Name: CLASIFFICATION_FINAL, dtype: int64\n",
            "\n",
            "\n",
            "Value counts for column ICU:\n",
            "97    848544\n",
            "2     175685\n",
            "1      16858\n",
            "99      7488\n",
            "Name: ICU, dtype: int64\n",
            "\n",
            "\n"
          ]
        }
      ],
      "source": [
        "for column in df.columns:\n",
        "    print(f\"Value counts for column {column}:\")\n",
        "    print(df[column].value_counts())\n",
        "    print(\"\\n\")"
      ]
    },
    {
      "cell_type": "markdown",
      "metadata": {},
      "source": [
        "# Data cleaning and Dataset size reduction"
      ]
    },
    {
      "cell_type": "markdown",
      "metadata": {},
      "source": [
        "Identify and handle missing data values"
      ]
    },
    {
      "cell_type": "code",
      "execution_count": 11,
      "metadata": {},
      "outputs": [
        {
          "name": "stdout",
          "output_type": "stream",
          "text": [
            "Missing values before cleaning:\n",
            "USMER                        0\n",
            "MEDICAL_UNIT                 0\n",
            "SEX                          0\n",
            "PATIENT_TYPE                 0\n",
            "DATE_DIED                    0\n",
            "INTUBED                 855869\n",
            "PNEUMONIA                16003\n",
            "AGE                        345\n",
            "PREGNANT                527265\n",
            "DIABETES                  3338\n",
            "COPD                      3003\n",
            "ASTHMA                    2979\n",
            "INMSUPR                   3404\n",
            "HIPERTENSION              3104\n",
            "OTHER_DISEASE             5045\n",
            "CARDIOVASCULAR            3076\n",
            "OBESITY                   3032\n",
            "RENAL_CHRONIC             3006\n",
            "TOBACCO                   3220\n",
            "CLASIFFICATION_FINAL         0\n",
            "ICU                     856032\n",
            "dtype: int64\n"
          ]
        }
      ],
      "source": [
        "import numpy as np\n",
        "df.replace([97, 98, 99], np.nan, inplace=True)\n",
        "print(\"Missing values before cleaning:\")\n",
        "print(df.isna().sum())"
      ]
    },
    {
      "cell_type": "markdown",
      "metadata": {},
      "source": [
        "Drop the PREGNANT and PATIENT_TYPE columns due to missing data"
      ]
    },
    {
      "cell_type": "code",
      "execution_count": 12,
      "metadata": {},
      "outputs": [],
      "source": [
        "df.drop(columns=['PREGNANT', 'PATIENT_TYPE', 'CLASIFFICATION_FINAL'], inplace=True)"
      ]
    },
    {
      "cell_type": "markdown",
      "metadata": {},
      "source": [
        "Create a new column 'DIED' where 1 indicates the patient has died and 0 indicates the patient is still alive"
      ]
    },
    {
      "cell_type": "code",
      "execution_count": 13,
      "metadata": {},
      "outputs": [],
      "source": [
        "df['DIED'] = df['DATE_DIED'].apply(lambda x: 1 if x == '9999-99-99' else 2)"
      ]
    },
    {
      "cell_type": "markdown",
      "metadata": {},
      "source": [
        "Drop the original 'DATE_DIED' column"
      ]
    },
    {
      "cell_type": "code",
      "execution_count": 14,
      "metadata": {},
      "outputs": [],
      "source": [
        "df.drop(columns=['DATE_DIED'], inplace=True)"
      ]
    },
    {
      "cell_type": "markdown",
      "metadata": {},
      "source": [
        "Drop rows with missing values in critical columns"
      ]
    },
    {
      "cell_type": "code",
      "execution_count": 15,
      "metadata": {},
      "outputs": [],
      "source": [
        "critical_columns = ['INTUBED', 'PNEUMONIA', 'AGE', 'DIABETES', 'COPD', 'ASTHMA', 'INMSUPR', \n",
        "                    'HIPERTENSION', 'OTHER_DISEASE', 'CARDIOVASCULAR', 'OBESITY', 'RENAL_CHRONIC', \n",
        "                    'TOBACCO', 'ICU']\n",
        "\n",
        "df = df.dropna(subset=critical_columns)"
      ]
    },
    {
      "cell_type": "markdown",
      "metadata": {},
      "source": [
        "Convert appropriate columns to 'category' dtype"
      ]
    },
    {
      "cell_type": "code",
      "execution_count": 16,
      "metadata": {},
      "outputs": [
        {
          "name": "stdout",
          "output_type": "stream",
          "text": [
            "USMER               int64\n",
            "MEDICAL_UNIT        int64\n",
            "SEX                object\n",
            "INTUBED            object\n",
            "PNEUMONIA          object\n",
            "AGE               float64\n",
            "DIABETES           object\n",
            "COPD               object\n",
            "ASTHMA             object\n",
            "INMSUPR            object\n",
            "HIPERTENSION       object\n",
            "OTHER_DISEASE      object\n",
            "CARDIOVASCULAR     object\n",
            "OBESITY            object\n",
            "RENAL_CHRONIC      object\n",
            "TOBACCO            object\n",
            "ICU                object\n",
            "DIED               object\n",
            "dtype: object\n"
          ]
        }
      ],
      "source": [
        "categorical_columns = ['SEX', 'INTUBED', 'PNEUMONIA', 'DIABETES', 'COPD', 'ASTHMA', 'INMSUPR', \n",
        "                       'HIPERTENSION', 'OTHER_DISEASE', 'CARDIOVASCULAR', 'OBESITY', 'RENAL_CHRONIC', \n",
        "                       'TOBACCO', 'ICU', 'DIED'] \n",
        "df[categorical_columns] = df[categorical_columns].astype('object')\n",
        "\n",
        "print(df.dtypes)"
      ]
    },
    {
      "cell_type": "markdown",
      "metadata": {},
      "source": [
        "Map 1 and 2 to 'Yes' and 'No' for categorical columns (exclude MEDICAL_UNIT, SEX, AGE)"
      ]
    },
    {
      "cell_type": "code",
      "execution_count": 17,
      "metadata": {},
      "outputs": [],
      "source": [
        "yes_no_map = {1: 'Yes', 2: 'No'}\n",
        "columns_to_map = ['INTUBED', 'PNEUMONIA', 'DIABETES', 'COPD', 'ASTHMA', 'INMSUPR', \n",
        "                  'HIPERTENSION', 'OTHER_DISEASE', 'CARDIOVASCULAR', 'OBESITY', 'RENAL_CHRONIC', \n",
        "                  'TOBACCO', 'ICU', 'DIED']\n",
        "\n",
        "for column in columns_to_map:\n",
        "    df[column] = df[column].map(yes_no_map)"
      ]
    },
    {
      "cell_type": "markdown",
      "metadata": {},
      "source": [
        "Map 1 and 2 to 'Female' and 'Male' for SEX column"
      ]
    },
    {
      "cell_type": "code",
      "execution_count": 18,
      "metadata": {},
      "outputs": [],
      "source": [
        "sex_map = {1: 'Female', 2: 'Male'}\n",
        "df['SEX'] = df['SEX'].map(sex_map)"
      ]
    },
    {
      "cell_type": "markdown",
      "metadata": {},
      "source": [
        "Convert AGE column to int64"
      ]
    },
    {
      "cell_type": "code",
      "execution_count": 19,
      "metadata": {},
      "outputs": [],
      "source": [
        "df['AGE'] = df['AGE'].astype('int64')"
      ]
    },
    {
      "cell_type": "markdown",
      "metadata": {},
      "source": [
        "Display missing values after cleaning"
      ]
    },
    {
      "cell_type": "code",
      "execution_count": 20,
      "metadata": {},
      "outputs": [
        {
          "name": "stdout",
          "output_type": "stream",
          "text": [
            "Missing values after cleaning:\n",
            "USMER             0\n",
            "MEDICAL_UNIT      0\n",
            "SEX               0\n",
            "INTUBED           0\n",
            "PNEUMONIA         0\n",
            "AGE               0\n",
            "DIABETES          0\n",
            "COPD              0\n",
            "ASTHMA            0\n",
            "INMSUPR           0\n",
            "HIPERTENSION      0\n",
            "OTHER_DISEASE     0\n",
            "CARDIOVASCULAR    0\n",
            "OBESITY           0\n",
            "RENAL_CHRONIC     0\n",
            "TOBACCO           0\n",
            "ICU               0\n",
            "DIED              0\n",
            "dtype: int64\n"
          ]
        }
      ],
      "source": [
        "print(\"Missing values after cleaning:\")\n",
        "print(df.isna().sum())"
      ]
    },
    {
      "cell_type": "markdown",
      "metadata": {},
      "source": [
        "Downsample the dataset due to github only accepting 5mb of data"
      ]
    },
    {
      "cell_type": "code",
      "execution_count": 21,
      "metadata": {},
      "outputs": [],
      "source": [
        "df_sampled = df.sample(frac=0.7, random_state=4)"
      ]
    },
    {
      "cell_type": "markdown",
      "metadata": {},
      "source": [
        "Check for duplications and drop"
      ]
    },
    {
      "cell_type": "code",
      "execution_count": 22,
      "metadata": {},
      "outputs": [
        {
          "name": "stdout",
          "output_type": "stream",
          "text": [
            "Dataset shape after dropping duplicates: (62236, 18)\n"
          ]
        }
      ],
      "source": [
        "df_sampled.drop_duplicates(inplace=True)\n",
        "print(f\"Dataset shape after dropping duplicates: {df_sampled.shape}\")"
      ]
    },
    {
      "cell_type": "markdown",
      "metadata": {},
      "source": [
        "Save the trimmed dataset to a new CSV file"
      ]
    },
    {
      "cell_type": "code",
      "execution_count": 23,
      "metadata": {},
      "outputs": [],
      "source": [
        "df_sampled.to_csv('trimmed_covid_dataset.csv', index=False)"
      ]
    },
    {
      "cell_type": "markdown",
      "metadata": {},
      "source": [
        "Check file size to ensure it fits within gitHub's limits"
      ]
    },
    {
      "cell_type": "code",
      "execution_count": 24,
      "metadata": {},
      "outputs": [
        {
          "name": "stdout",
          "output_type": "stream",
          "text": [
            "File size: 3.48 MB\n"
          ]
        }
      ],
      "source": [
        "file_size = os.path.getsize('trimmed_covid_dataset.csv')\n",
        "print(f'File size: {file_size / (1024 * 1024):.2f} MB')"
      ]
    },
    {
      "cell_type": "markdown",
      "metadata": {},
      "source": [
        "Delete initial covid dataset prior to trimming"
      ]
    },
    {
      "cell_type": "code",
      "execution_count": 25,
      "metadata": {},
      "outputs": [
        {
          "name": "stdout",
          "output_type": "stream",
          "text": [
            "Covid Data.csv has been deleted.\n",
            "covid19-dataset.zip does not exist.\n"
          ]
        }
      ],
      "source": [
        "directory = 'inputs/datasets/raw/'\n",
        "files_to_delete = ['Covid Data.csv', 'covid19-dataset.zip']\n",
        "\n",
        "for file in files_to_delete:\n",
        "    file_path = os.path.join(directory, file)\n",
        "    if os.path.exists(file_path):\n",
        "        os.remove(file_path)\n",
        "        print(f'{file} has been deleted.')\n",
        "    else:\n",
        "        print(f'{file} does not exist.')"
      ]
    },
    {
      "cell_type": "markdown",
      "metadata": {},
      "source": [
        "Move trimmed dataset into correct folder"
      ]
    },
    {
      "cell_type": "code",
      "execution_count": 26,
      "metadata": {},
      "outputs": [
        {
          "name": "stdout",
          "output_type": "stream",
          "text": [
            "trimmed_covid_dataset.csv has been moved to inputs/datasets/raw/trimmed_covid_dataset.csv.\n"
          ]
        }
      ],
      "source": [
        "import shutil\n",
        "\n",
        "source = 'trimmed_covid_dataset.csv'\n",
        "destination = 'inputs/datasets/raw/trimmed_covid_dataset.csv'\n",
        "\n",
        "shutil.move(source, destination)\n",
        "print(f'{source} has been moved to {destination}.')"
      ]
    },
    {
      "cell_type": "markdown",
      "metadata": {},
      "source": [
        "# Push files to Repo"
      ]
    },
    {
      "cell_type": "code",
      "execution_count": 27,
      "metadata": {},
      "outputs": [
        {
          "name": "stdout",
          "output_type": "stream",
          "text": [
            "Size of trimmed CSV: 3.4755706787109375 MB\n",
            "Size of copied CSV: 3.4755706787109375 MB\n"
          ]
        }
      ],
      "source": [
        "import os\n",
        "import shutil\n",
        "\n",
        "trimmed_csv_path = 'inputs/datasets/raw/trimmed_covid_dataset.csv'\n",
        "print(f\"Size of trimmed CSV: {os.path.getsize(trimmed_csv_path) / (1024 * 1024)} MB\")\n",
        "\n",
        "output_dir = 'outputs/datasets/collection'\n",
        "try:\n",
        "    os.makedirs(output_dir, exist_ok=True)\n",
        "except Exception as e:\n",
        "    print(e)\n",
        "\n",
        "shutil.copy(trimmed_csv_path, f\"{output_dir}/covid-19-dataset.csv\")\n",
        "\n",
        "copied_csv_path = f\"{output_dir}/covid-19-dataset.csv\"\n",
        "print(f\"Size of copied CSV: {os.path.getsize(copied_csv_path) / (1024 * 1024)} MB\")"
      ]
    },
    {
      "cell_type": "markdown",
      "metadata": {},
      "source": [
        "---"
      ]
    }
  ],
  "metadata": {
    "accelerator": "GPU",
    "colab": {
      "name": "Data Practitioner Jupyter Notebook.ipynb",
      "provenance": [],
      "toc_visible": true
    },
    "interpreter": {
      "hash": "8b8334dab9339717f727a1deaf837b322d7a41c20d15cc86be99a8e69ceec8ce"
    },
    "kernelspec": {
      "display_name": "Python 3.8.12 64-bit ('3.8.12': pyenv)",
      "name": "python3"
    },
    "language_info": {
      "codemirror_mode": {
        "name": "ipython",
        "version": 3
      },
      "file_extension": ".py",
      "mimetype": "text/x-python",
      "name": "python",
      "nbconvert_exporter": "python",
      "pygments_lexer": "ipython3",
      "version": "3.8.18"
    },
    "orig_nbformat": 2
  },
  "nbformat": 4,
  "nbformat_minor": 2
}
