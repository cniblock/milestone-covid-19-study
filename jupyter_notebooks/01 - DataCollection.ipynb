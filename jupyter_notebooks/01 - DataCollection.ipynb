{
  "cells": [
    {
      "cell_type": "markdown",
      "metadata": {
        "id": "0aStgWSO0E0E"
      },
      "source": [
        "# **Data Collection Notebook**"
      ]
    },
    {
      "cell_type": "markdown",
      "metadata": {
        "id": "1eLEkw5O0ECa"
      },
      "source": [
        "## Objectives\n",
        "\n",
        "* Fetch Data from Kaggle and save as raw file and unzip.\n",
        "* Inspect the data and save it under inputs/datasets/raw\n",
        "* Inspect the data and save it under outputs/datasets/collection\n",
        "\n",
        "## Inputs\n",
        "\n",
        "* Kaggle JSON file - the authentication token.\n",
        "\n",
        "## Outputs\n",
        "\n",
        "* Generate Dataset: outputs/datasets/collection/trimmed_covid_dataset.csv\n",
        "\n",
        "## Additional Comments\n",
        "\n",
        "* The Dataset originally contained over 1 million patients. That was trimmed to 51,000.\n"
      ]
    },
    {
      "cell_type": "markdown",
      "metadata": {
        "id": "9uWZXH9LwoQg"
      },
      "source": [
        "---"
      ]
    },
    {
      "cell_type": "markdown",
      "metadata": {
        "id": "cqP-UeN-z3i2"
      },
      "source": [
        "# Change working directory"
      ]
    },
    {
      "cell_type": "markdown",
      "metadata": {},
      "source": [
        "* We are assuming you will store the notebooks in a subfolder, therefore when running the notebook in the editor, you will need to change the working directory"
      ]
    },
    {
      "cell_type": "markdown",
      "metadata": {
        "id": "aOGIGS-uz3i2"
      },
      "source": [
        "We need to change the working directory from its current folder to its parent folder\n",
        "* We access the current directory with os.getcwd()"
      ]
    },
    {
      "cell_type": "code",
      "execution_count": 1,
      "metadata": {
        "id": "wZfF_j-Bz3i4",
        "outputId": "66943449-1436-4c3d-85c7-b85f9f78349b"
      },
      "outputs": [
        {
          "data": {
            "text/plain": [
              "'/workspace/milestone-covid-19-study/jupyter_notebooks'"
            ]
          },
          "execution_count": 1,
          "metadata": {},
          "output_type": "execute_result"
        }
      ],
      "source": [
        "import os\n",
        "current_dir = os.getcwd()\n",
        "current_dir"
      ]
    },
    {
      "cell_type": "markdown",
      "metadata": {
        "id": "9MWW8E7lz3i7"
      },
      "source": [
        "We want to make the parent of the current directory the new current directory\n",
        "* os.path.dirname() gets the parent directory\n",
        "* os.chir() defines the new current directory"
      ]
    },
    {
      "cell_type": "code",
      "execution_count": 2,
      "metadata": {
        "id": "TwHsQRWjz3i9",
        "outputId": "86849db3-cd2f-4cc5-ebb8-2d0caafa1a2c"
      },
      "outputs": [
        {
          "name": "stdout",
          "output_type": "stream",
          "text": [
            "You set a new current directory\n"
          ]
        }
      ],
      "source": [
        "os.chdir(os.path.dirname(current_dir))\n",
        "print(\"You set a new current directory\")"
      ]
    },
    {
      "cell_type": "markdown",
      "metadata": {
        "id": "M_xPk_Ijz3i-"
      },
      "source": [
        "Confirm the new current directory"
      ]
    },
    {
      "cell_type": "code",
      "execution_count": 3,
      "metadata": {
        "id": "vz3S-_kjz3jA",
        "outputId": "00b79ae4-75d0-4a96-d193-ac9ef9847ea2"
      },
      "outputs": [
        {
          "data": {
            "text/plain": [
              "'/workspace/milestone-covid-19-study'"
            ]
          },
          "execution_count": 3,
          "metadata": {},
          "output_type": "execute_result"
        }
      ],
      "source": [
        "current_dir = os.getcwd()\n",
        "current_dir"
      ]
    },
    {
      "cell_type": "markdown",
      "metadata": {
        "id": "-mavJ8DibrcQ"
      },
      "source": [
        "# Install and fetch data from Kaggle"
      ]
    },
    {
      "cell_type": "markdown",
      "metadata": {},
      "source": [
        "Install Kaggle packages"
      ]
    },
    {
      "cell_type": "code",
      "execution_count": 4,
      "metadata": {},
      "outputs": [
        {
          "name": "stdout",
          "output_type": "stream",
          "text": [
            "Requirement already satisfied: kaggle==1.5.12 in /workspace/.pip-modules/lib/python3.8/site-packages (1.5.12)\n",
            "Requirement already satisfied: six>=1.10 in /home/gitpod/.pyenv/versions/3.8.18/lib/python3.8/site-packages (from kaggle==1.5.12) (1.16.0)\n",
            "Requirement already satisfied: certifi in /home/gitpod/.pyenv/versions/3.8.18/lib/python3.8/site-packages (from kaggle==1.5.12) (2024.6.2)\n",
            "Requirement already satisfied: python-dateutil in /home/gitpod/.pyenv/versions/3.8.18/lib/python3.8/site-packages (from kaggle==1.5.12) (2.9.0.post0)\n",
            "Requirement already satisfied: requests in /home/gitpod/.pyenv/versions/3.8.18/lib/python3.8/site-packages (from kaggle==1.5.12) (2.32.3)\n",
            "Requirement already satisfied: tqdm in /workspace/.pip-modules/lib/python3.8/site-packages (from kaggle==1.5.12) (4.66.4)\n",
            "Requirement already satisfied: python-slugify in /workspace/.pip-modules/lib/python3.8/site-packages (from kaggle==1.5.12) (8.0.4)\n",
            "Requirement already satisfied: urllib3 in /home/gitpod/.pyenv/versions/3.8.18/lib/python3.8/site-packages (from kaggle==1.5.12) (2.2.2)\n",
            "Requirement already satisfied: text-unidecode>=1.3 in /workspace/.pip-modules/lib/python3.8/site-packages (from python-slugify->kaggle==1.5.12) (1.3)\n",
            "Requirement already satisfied: charset-normalizer<4,>=2 in /home/gitpod/.pyenv/versions/3.8.18/lib/python3.8/site-packages (from requests->kaggle==1.5.12) (3.3.2)\n",
            "Requirement already satisfied: idna<4,>=2.5 in /home/gitpod/.pyenv/versions/3.8.18/lib/python3.8/site-packages (from requests->kaggle==1.5.12) (3.7)\n",
            "Note: you may need to restart the kernel to use updated packages.\n"
          ]
        }
      ],
      "source": [
        "%pip install kaggle==1.5.12"
      ]
    },
    {
      "cell_type": "markdown",
      "metadata": {},
      "source": [
        "Add kaggle.json token"
      ]
    },
    {
      "cell_type": "code",
      "execution_count": 6,
      "metadata": {},
      "outputs": [],
      "source": [
        "import os\n",
        "os.environ['KAGGLE_CONFIG_DIR'] = os.getcwd()\n",
        "! chmod 600 kaggle.json"
      ]
    },
    {
      "cell_type": "markdown",
      "metadata": {},
      "source": [
        "Define the Kaggle dataset, and destination folder and download it."
      ]
    },
    {
      "cell_type": "code",
      "execution_count": 7,
      "metadata": {},
      "outputs": [
        {
          "name": "stdout",
          "output_type": "stream",
          "text": [
            "Downloading covid19-dataset.zip to inputs/datasets/raw\n",
            " 64%|████████████████████████▍             | 3.00M/4.66M [00:00<00:00, 5.53MB/s]\n",
            "100%|██████████████████████████████████████| 4.66M/4.66M [00:00<00:00, 6.73MB/s]\n"
          ]
        }
      ],
      "source": [
        "KaggleDatasetPath = \"meirnizri/covid19-dataset\"\n",
        "DestinationFolder = \"inputs/datasets/raw\"   \n",
        "! kaggle datasets download -d {KaggleDatasetPath} -p {DestinationFolder}"
      ]
    },
    {
      "cell_type": "markdown",
      "metadata": {},
      "source": [
        "Unzip the downloaded file, delete the zip file and delete the kaggle.json file"
      ]
    },
    {
      "cell_type": "code",
      "execution_count": null,
      "metadata": {},
      "outputs": [],
      "source": [
        "! unzip {DestinationFolder}/*.zip -d {DestinationFolder} \\\n",
        "  && rm {DestinationFolder}/*.zip \\\n",
        "  && rm kaggle.json"
      ]
    },
    {
      "cell_type": "markdown",
      "metadata": {
        "id": "ZY3l0-AxO93d"
      },
      "source": [
        "---"
      ]
    },
    {
      "cell_type": "markdown",
      "metadata": {
        "id": "uFQo3ycuO-v6"
      },
      "source": [
        "# Load and Inspect Kaggle Data"
      ]
    },
    {
      "cell_type": "markdown",
      "metadata": {},
      "source": [
        "Import Pandas and Read CSV File"
      ]
    },
    {
      "cell_type": "code",
      "execution_count": 8,
      "metadata": {},
      "outputs": [
        {
          "name": "stdout",
          "output_type": "stream",
          "text": [
            "   USMER  MEDICAL_UNIT  SEX  PATIENT_TYPE   DATE_DIED  PNEUMONIA   AGE  \\\n",
            "0      2            12    1             1  9999-99-99        2.0  27.0   \n",
            "1      2            12    1             1  9999-99-99        2.0  23.0   \n",
            "2      1            12    1             2  9999-99-99        2.0  22.0   \n",
            "3      1            12    1             1  9999-99-99        2.0  37.0   \n",
            "4      2            12    1             1  9999-99-99        2.0  29.0   \n",
            "\n",
            "   PREGNANT  DIABETES  COPD  ASTHMA  INMSUPR  HIPERTENSION  OTHER_DISEASE  \\\n",
            "0       2.0         2     2       2        2             2              2   \n",
            "1       2.0         2     2       2        2             2              2   \n",
            "2       2.0         2     2       2        2             2              2   \n",
            "3       2.0         2     2       2        2             2              2   \n",
            "4       2.0         2     2       2        2             1              2   \n",
            "\n",
            "   CARDIOVASCULAR  OBESITY  RENAL_CHRONIC  TOBACCO  CLASIFFICATION_FINAL  \n",
            "0               2        2              2        2                     7  \n",
            "1               2        2              2        2                     7  \n",
            "2               2        2              2        2                     3  \n",
            "3               2        2              2        2                     7  \n",
            "4               2        2              2        1                     7  \n",
            "              USMER  MEDICAL_UNIT      SEX  PATIENT_TYPE     PNEUMONIA  \\\n",
            "count  51630.000000  51630.000000  51630.0  51630.000000  51630.000000   \n",
            "mean       1.644025      9.008174      1.0      1.154542      1.891536   \n",
            "std        0.478812      3.731260      0.0      0.361471      0.310969   \n",
            "min        1.000000      1.000000      1.0      1.000000      1.000000   \n",
            "25%        1.000000      4.000000      1.0      1.000000      2.000000   \n",
            "50%        2.000000     12.000000      1.0      1.000000      2.000000   \n",
            "75%        2.000000     12.000000      1.0      1.000000      2.000000   \n",
            "max        2.000000     13.000000      1.0      2.000000      2.000000   \n",
            "\n",
            "                AGE      PREGNANT      DIABETES          COPD        ASTHMA  \\\n",
            "count  51630.000000  51630.000000  51630.000000  51630.000000  51630.000000   \n",
            "mean      41.325450      2.584931      2.144218      2.237323      2.208445   \n",
            "std       16.426578      7.571684      5.008583      4.904636      4.853464   \n",
            "min        0.000000      1.000000      1.000000      1.000000      1.000000   \n",
            "25%       30.000000      2.000000      2.000000      2.000000      2.000000   \n",
            "50%       40.000000      2.000000      2.000000      2.000000      2.000000   \n",
            "75%       52.000000      2.000000      2.000000      2.000000      2.000000   \n",
            "max      120.000000     98.000000     98.000000     98.000000     98.000000   \n",
            "\n",
            "            INMSUPR  HIPERTENSION  OTHER_DISEASE  CARDIOVASCULAR  \\\n",
            "count  51630.000000  51630.000000   51630.000000    51630.000000   \n",
            "mean       2.266531      2.112357       2.380941        2.257505   \n",
            "std        5.186265      5.066264       6.271708        5.135174   \n",
            "min        1.000000      1.000000       1.000000        1.000000   \n",
            "25%        2.000000      2.000000       2.000000        2.000000   \n",
            "50%        2.000000      2.000000       2.000000        2.000000   \n",
            "75%        2.000000      2.000000       2.000000        2.000000   \n",
            "max       98.000000     98.000000      98.000000       98.000000   \n",
            "\n",
            "            OBESITY  RENAL_CHRONIC       TOBACCO  CLASIFFICATION_FINAL  \n",
            "count  51630.000000   51630.000000  51630.000000          51630.000000  \n",
            "mean       2.103506       2.240229      2.233585              5.398354  \n",
            "std        5.049498       4.959058      5.242887              1.868438  \n",
            "min        1.000000       1.000000      1.000000              1.000000  \n",
            "25%        2.000000       2.000000      2.000000              3.000000  \n",
            "50%        2.000000       2.000000      2.000000              7.000000  \n",
            "75%        2.000000       2.000000      2.000000              7.000000  \n",
            "max       98.000000      98.000000     98.000000              7.000000  \n"
          ]
        }
      ],
      "source": [
        "import pandas as pd\n",
        "df = pd.read_csv(f\"inputs/datasets/raw/trimmed_covid_dataset.csv\")\n",
        "print(df.head())\n",
        "print(df.describe())"
      ]
    },
    {
      "cell_type": "markdown",
      "metadata": {},
      "source": [
        "View DataFrame Summary"
      ]
    },
    {
      "cell_type": "code",
      "execution_count": 9,
      "metadata": {},
      "outputs": [
        {
          "name": "stdout",
          "output_type": "stream",
          "text": [
            "<class 'pandas.core.frame.DataFrame'>\n",
            "RangeIndex: 51630 entries, 0 to 51629\n",
            "Data columns (total 19 columns):\n",
            " #   Column                Non-Null Count  Dtype  \n",
            "---  ------                --------------  -----  \n",
            " 0   USMER                 51630 non-null  int64  \n",
            " 1   MEDICAL_UNIT          51630 non-null  int64  \n",
            " 2   SEX                   51630 non-null  int64  \n",
            " 3   PATIENT_TYPE          51630 non-null  int64  \n",
            " 4   DATE_DIED             51630 non-null  object \n",
            " 5   PNEUMONIA             51630 non-null  float64\n",
            " 6   AGE                   51630 non-null  float64\n",
            " 7   PREGNANT              51630 non-null  float64\n",
            " 8   DIABETES              51630 non-null  int64  \n",
            " 9   COPD                  51630 non-null  int64  \n",
            " 10  ASTHMA                51630 non-null  int64  \n",
            " 11  INMSUPR               51630 non-null  int64  \n",
            " 12  HIPERTENSION          51630 non-null  int64  \n",
            " 13  OTHER_DISEASE         51630 non-null  int64  \n",
            " 14  CARDIOVASCULAR        51630 non-null  int64  \n",
            " 15  OBESITY               51630 non-null  int64  \n",
            " 16  RENAL_CHRONIC         51630 non-null  int64  \n",
            " 17  TOBACCO               51630 non-null  int64  \n",
            " 18  CLASIFFICATION_FINAL  51630 non-null  int64  \n",
            "dtypes: float64(3), int64(15), object(1)\n",
            "memory usage: 7.5+ MB\n"
          ]
        }
      ],
      "source": [
        "df.info()"
      ]
    },
    {
      "cell_type": "markdown",
      "metadata": {},
      "source": [
        "# Data cleaning and Dataset size reduction"
      ]
    },
    {
      "cell_type": "markdown",
      "metadata": {},
      "source": [
        "Identify and handle missing data values"
      ]
    },
    {
      "cell_type": "code",
      "execution_count": 10,
      "metadata": {},
      "outputs": [
        {
          "name": "stdout",
          "output_type": "stream",
          "text": [
            "USMER                   0\n",
            "MEDICAL_UNIT            0\n",
            "SEX                     0\n",
            "PATIENT_TYPE            0\n",
            "DATE_DIED               0\n",
            "PNEUMONIA               0\n",
            "AGE                     0\n",
            "PREGNANT                0\n",
            "DIABETES                0\n",
            "COPD                    0\n",
            "ASTHMA                  0\n",
            "INMSUPR                 0\n",
            "HIPERTENSION            0\n",
            "OTHER_DISEASE           0\n",
            "CARDIOVASCULAR          0\n",
            "OBESITY                 0\n",
            "RENAL_CHRONIC           0\n",
            "TOBACCO                 0\n",
            "CLASIFFICATION_FINAL    0\n",
            "dtype: int64\n"
          ]
        }
      ],
      "source": [
        "import numpy as np\n",
        "df.replace([97, 99], np.nan, inplace=True)\n",
        "print(df.isna().sum())"
      ]
    },
    {
      "cell_type": "markdown",
      "metadata": {},
      "source": [
        "Drop columns with more than 50% missing data"
      ]
    },
    {
      "cell_type": "code",
      "execution_count": 11,
      "metadata": {},
      "outputs": [],
      "source": [
        "threshold = len(df) * 0.5\n",
        "df.dropna(thresh=threshold, axis=1, inplace=True)"
      ]
    },
    {
      "cell_type": "markdown",
      "metadata": {},
      "source": [
        "Drop rows with NaN values"
      ]
    },
    {
      "cell_type": "code",
      "execution_count": 12,
      "metadata": {},
      "outputs": [],
      "source": [
        "df.dropna(inplace=True)"
      ]
    },
    {
      "cell_type": "markdown",
      "metadata": {},
      "source": [
        "Display missing values after cleaning"
      ]
    },
    {
      "cell_type": "code",
      "execution_count": 13,
      "metadata": {},
      "outputs": [
        {
          "name": "stdout",
          "output_type": "stream",
          "text": [
            "Missing values after cleaning:\n",
            "USMER                   0\n",
            "MEDICAL_UNIT            0\n",
            "SEX                     0\n",
            "PATIENT_TYPE            0\n",
            "DATE_DIED               0\n",
            "PNEUMONIA               0\n",
            "AGE                     0\n",
            "PREGNANT                0\n",
            "DIABETES                0\n",
            "COPD                    0\n",
            "ASTHMA                  0\n",
            "INMSUPR                 0\n",
            "HIPERTENSION            0\n",
            "OTHER_DISEASE           0\n",
            "CARDIOVASCULAR          0\n",
            "OBESITY                 0\n",
            "RENAL_CHRONIC           0\n",
            "TOBACCO                 0\n",
            "CLASIFFICATION_FINAL    0\n",
            "dtype: int64\n"
          ]
        }
      ],
      "source": [
        "print(\"Missing values after cleaning:\")\n",
        "print(df.isna().sum())"
      ]
    },
    {
      "cell_type": "markdown",
      "metadata": {},
      "source": [
        "Downsample the dataset due to github only accepting 5mb of data"
      ]
    },
    {
      "cell_type": "code",
      "execution_count": 26,
      "metadata": {},
      "outputs": [],
      "source": [
        "df_sampled = df.sample(frac=0.1, random_state=1)"
      ]
    },
    {
      "cell_type": "markdown",
      "metadata": {},
      "source": [
        "Save the trimmed dataset to a new CSV file"
      ]
    },
    {
      "cell_type": "code",
      "execution_count": 27,
      "metadata": {},
      "outputs": [],
      "source": [
        "df_sampled.to_csv('trimmed_covid_dataset.csv', index=False)"
      ]
    },
    {
      "cell_type": "markdown",
      "metadata": {},
      "source": [
        "Check file size to ensure it fits within gitHub's limits"
      ]
    },
    {
      "cell_type": "code",
      "execution_count": 28,
      "metadata": {},
      "outputs": [
        {
          "name": "stdout",
          "output_type": "stream",
          "text": [
            "File size: 2.69 MB\n"
          ]
        }
      ],
      "source": [
        "file_size = os.path.getsize('trimmed_covid_dataset.csv')\n",
        "print(f'File size: {file_size / (1024 * 1024):.2f} MB')"
      ]
    },
    {
      "cell_type": "markdown",
      "metadata": {},
      "source": [
        "Delete initial covid dataset prior to trimming"
      ]
    },
    {
      "cell_type": "code",
      "execution_count": 30,
      "metadata": {},
      "outputs": [
        {
          "name": "stdout",
          "output_type": "stream",
          "text": [
            "Covid Data.csv has been deleted.\n",
            "covid19-dataset.zip has been deleted.\n"
          ]
        }
      ],
      "source": [
        "directory = 'inputs/datasets/raw/'\n",
        "files_to_delete = ['Covid Data.csv', 'covid19-dataset.zip']\n",
        "\n",
        "for file in files_to_delete:\n",
        "    file_path = os.path.join(directory, file)\n",
        "    if os.path.exists(file_path):\n",
        "        os.remove(file_path)\n",
        "        print(f'{file} has been deleted.')\n",
        "    else:\n",
        "        print(f'{file} does not exist.')"
      ]
    },
    {
      "cell_type": "markdown",
      "metadata": {},
      "source": [
        "Move trimmed dataset into correct folder"
      ]
    },
    {
      "cell_type": "code",
      "execution_count": 14,
      "metadata": {},
      "outputs": [
        {
          "ename": "FileNotFoundError",
          "evalue": "[Errno 2] No such file or directory: 'trimmed_covid_dataset.csv'",
          "output_type": "error",
          "traceback": [
            "\u001b[0;31m---------------------------------------------------------------------------\u001b[0m",
            "\u001b[0;31mFileNotFoundError\u001b[0m                         Traceback (most recent call last)",
            "File \u001b[0;32m~/.pyenv/versions/3.8.18/lib/python3.8/shutil.py:791\u001b[0m, in \u001b[0;36mmove\u001b[0;34m(src, dst, copy_function)\u001b[0m\n\u001b[1;32m    790\u001b[0m \u001b[38;5;28;01mtry\u001b[39;00m:\n\u001b[0;32m--> 791\u001b[0m     \u001b[43mos\u001b[49m\u001b[38;5;241;43m.\u001b[39;49m\u001b[43mrename\u001b[49m\u001b[43m(\u001b[49m\u001b[43msrc\u001b[49m\u001b[43m,\u001b[49m\u001b[43m \u001b[49m\u001b[43mreal_dst\u001b[49m\u001b[43m)\u001b[49m\n\u001b[1;32m    792\u001b[0m \u001b[38;5;28;01mexcept\u001b[39;00m \u001b[38;5;167;01mOSError\u001b[39;00m:\n",
            "\u001b[0;31mFileNotFoundError\u001b[0m: [Errno 2] No such file or directory: 'trimmed_covid_dataset.csv' -> 'inputs/datasets/raw/trimmed_covid_dataset.csv'",
            "\nDuring handling of the above exception, another exception occurred:\n",
            "\u001b[0;31mFileNotFoundError\u001b[0m                         Traceback (most recent call last)",
            "Cell \u001b[0;32mIn[14], line 6\u001b[0m\n\u001b[1;32m      3\u001b[0m source \u001b[38;5;241m=\u001b[39m \u001b[38;5;124m'\u001b[39m\u001b[38;5;124mtrimmed_covid_dataset.csv\u001b[39m\u001b[38;5;124m'\u001b[39m\n\u001b[1;32m      4\u001b[0m destination \u001b[38;5;241m=\u001b[39m \u001b[38;5;124m'\u001b[39m\u001b[38;5;124minputs/datasets/raw/trimmed_covid_dataset.csv\u001b[39m\u001b[38;5;124m'\u001b[39m\n\u001b[0;32m----> 6\u001b[0m \u001b[43mshutil\u001b[49m\u001b[38;5;241;43m.\u001b[39;49m\u001b[43mmove\u001b[49m\u001b[43m(\u001b[49m\u001b[43msource\u001b[49m\u001b[43m,\u001b[49m\u001b[43m \u001b[49m\u001b[43mdestination\u001b[49m\u001b[43m)\u001b[49m\n\u001b[1;32m      7\u001b[0m \u001b[38;5;28mprint\u001b[39m(\u001b[38;5;124mf\u001b[39m\u001b[38;5;124m'\u001b[39m\u001b[38;5;132;01m{\u001b[39;00msource\u001b[38;5;132;01m}\u001b[39;00m\u001b[38;5;124m has been moved to \u001b[39m\u001b[38;5;132;01m{\u001b[39;00mdestination\u001b[38;5;132;01m}\u001b[39;00m\u001b[38;5;124m.\u001b[39m\u001b[38;5;124m'\u001b[39m)\n",
            "File \u001b[0;32m~/.pyenv/versions/3.8.18/lib/python3.8/shutil.py:811\u001b[0m, in \u001b[0;36mmove\u001b[0;34m(src, dst, copy_function)\u001b[0m\n\u001b[1;32m    809\u001b[0m         rmtree(src)\n\u001b[1;32m    810\u001b[0m     \u001b[38;5;28;01melse\u001b[39;00m:\n\u001b[0;32m--> 811\u001b[0m         \u001b[43mcopy_function\u001b[49m\u001b[43m(\u001b[49m\u001b[43msrc\u001b[49m\u001b[43m,\u001b[49m\u001b[43m \u001b[49m\u001b[43mreal_dst\u001b[49m\u001b[43m)\u001b[49m\n\u001b[1;32m    812\u001b[0m         os\u001b[38;5;241m.\u001b[39munlink(src)\n\u001b[1;32m    813\u001b[0m \u001b[38;5;28;01mreturn\u001b[39;00m real_dst\n",
            "File \u001b[0;32m~/.pyenv/versions/3.8.18/lib/python3.8/shutil.py:435\u001b[0m, in \u001b[0;36mcopy2\u001b[0;34m(src, dst, follow_symlinks)\u001b[0m\n\u001b[1;32m    433\u001b[0m \u001b[38;5;28;01mif\u001b[39;00m os\u001b[38;5;241m.\u001b[39mpath\u001b[38;5;241m.\u001b[39misdir(dst):\n\u001b[1;32m    434\u001b[0m     dst \u001b[38;5;241m=\u001b[39m os\u001b[38;5;241m.\u001b[39mpath\u001b[38;5;241m.\u001b[39mjoin(dst, os\u001b[38;5;241m.\u001b[39mpath\u001b[38;5;241m.\u001b[39mbasename(src))\n\u001b[0;32m--> 435\u001b[0m \u001b[43mcopyfile\u001b[49m\u001b[43m(\u001b[49m\u001b[43msrc\u001b[49m\u001b[43m,\u001b[49m\u001b[43m \u001b[49m\u001b[43mdst\u001b[49m\u001b[43m,\u001b[49m\u001b[43m \u001b[49m\u001b[43mfollow_symlinks\u001b[49m\u001b[38;5;241;43m=\u001b[39;49m\u001b[43mfollow_symlinks\u001b[49m\u001b[43m)\u001b[49m\n\u001b[1;32m    436\u001b[0m copystat(src, dst, follow_symlinks\u001b[38;5;241m=\u001b[39mfollow_symlinks)\n\u001b[1;32m    437\u001b[0m \u001b[38;5;28;01mreturn\u001b[39;00m dst\n",
            "File \u001b[0;32m~/.pyenv/versions/3.8.18/lib/python3.8/shutil.py:264\u001b[0m, in \u001b[0;36mcopyfile\u001b[0;34m(src, dst, follow_symlinks)\u001b[0m\n\u001b[1;32m    262\u001b[0m     os\u001b[38;5;241m.\u001b[39msymlink(os\u001b[38;5;241m.\u001b[39mreadlink(src), dst)\n\u001b[1;32m    263\u001b[0m \u001b[38;5;28;01melse\u001b[39;00m:\n\u001b[0;32m--> 264\u001b[0m     \u001b[38;5;28;01mwith\u001b[39;00m \u001b[38;5;28;43mopen\u001b[39;49m\u001b[43m(\u001b[49m\u001b[43msrc\u001b[49m\u001b[43m,\u001b[49m\u001b[43m \u001b[49m\u001b[38;5;124;43m'\u001b[39;49m\u001b[38;5;124;43mrb\u001b[39;49m\u001b[38;5;124;43m'\u001b[39;49m\u001b[43m)\u001b[49m \u001b[38;5;28;01mas\u001b[39;00m fsrc, \u001b[38;5;28mopen\u001b[39m(dst, \u001b[38;5;124m'\u001b[39m\u001b[38;5;124mwb\u001b[39m\u001b[38;5;124m'\u001b[39m) \u001b[38;5;28;01mas\u001b[39;00m fdst:\n\u001b[1;32m    265\u001b[0m         \u001b[38;5;66;03m# macOS\u001b[39;00m\n\u001b[1;32m    266\u001b[0m         \u001b[38;5;28;01mif\u001b[39;00m _HAS_FCOPYFILE:\n\u001b[1;32m    267\u001b[0m             \u001b[38;5;28;01mtry\u001b[39;00m:\n",
            "\u001b[0;31mFileNotFoundError\u001b[0m: [Errno 2] No such file or directory: 'trimmed_covid_dataset.csv'"
          ]
        }
      ],
      "source": [
        "import shutil\n",
        "\n",
        "source = 'trimmed_covid_dataset.csv'\n",
        "destination = 'inputs/datasets/raw/trimmed_covid_dataset.csv'\n",
        "\n",
        "shutil.move(source, destination)\n",
        "print(f'{source} has been moved to {destination}.')"
      ]
    },
    {
      "cell_type": "markdown",
      "metadata": {},
      "source": [
        "Check for duplications"
      ]
    },
    {
      "cell_type": "code",
      "execution_count": null,
      "metadata": {},
      "outputs": [],
      "source": [
        "duplicates = df_sampled.duplicated()\n",
        "print(f\"Number of duplicate rows: {duplicates.sum()}\")"
      ]
    },
    {
      "cell_type": "markdown",
      "metadata": {},
      "source": [
        "# Push files to Repo"
      ]
    },
    {
      "cell_type": "code",
      "execution_count": 15,
      "metadata": {},
      "outputs": [],
      "source": [
        "import os\n",
        "try:\n",
        "  os.makedirs(name='outputs/datasets/collection')\n",
        "except Exception as e:\n",
        "  print(e)\n",
        "\n",
        "df.to_csv(f\"outputs/datasets/collection/covid-19-dataset.csv\",index=False)"
      ]
    },
    {
      "cell_type": "markdown",
      "metadata": {},
      "source": [
        "---"
      ]
    }
  ],
  "metadata": {
    "accelerator": "GPU",
    "colab": {
      "name": "Data Practitioner Jupyter Notebook.ipynb",
      "provenance": [],
      "toc_visible": true
    },
    "interpreter": {
      "hash": "8b8334dab9339717f727a1deaf837b322d7a41c20d15cc86be99a8e69ceec8ce"
    },
    "kernelspec": {
      "display_name": "Python 3.8.12 64-bit ('3.8.12': pyenv)",
      "name": "python3"
    },
    "language_info": {
      "codemirror_mode": {
        "name": "ipython",
        "version": 3
      },
      "file_extension": ".py",
      "mimetype": "text/x-python",
      "name": "python",
      "nbconvert_exporter": "python",
      "pygments_lexer": "ipython3",
      "version": "3.8.18"
    },
    "orig_nbformat": 2
  },
  "nbformat": 4,
  "nbformat_minor": 2
}
