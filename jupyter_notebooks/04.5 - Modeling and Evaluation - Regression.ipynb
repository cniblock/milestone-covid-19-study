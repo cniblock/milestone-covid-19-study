{
 "cells": [
  {
   "cell_type": "markdown",
   "metadata": {},
   "source": [
    "# **Regression: Covid-19 Risk Prediction Notebook**"
   ]
  },
  {
   "cell_type": "markdown",
   "metadata": {},
   "source": [
    "## Objectives\n",
    "\n",
    "Fit and evaluate a regression model to predict the risk level for a Covid-19 patient based on their age and pre-existing health conditions.\n",
    "\n",
    "## Inputs\n",
    "\n",
    "* outputs/datasets/cleaned/TrainSetCleaned.csv\n",
    "* outputs/datasets/cleaned/TestSetCleaned.csv\n",
    "\n",
    "## Outputs\n",
    "\n",
    "* Train set (features and target)\n",
    "* Test set (features and target)\n",
    "* ML pipeline to predict Risk level of patient\n",
    "* Labels map\n",
    "* Feature Importance Plot "
   ]
  },
  {
   "cell_type": "markdown",
   "metadata": {},
   "source": [
    "---"
   ]
  },
  {
   "cell_type": "markdown",
   "metadata": {},
   "source": [
    "# Change working directory"
   ]
  },
  {
   "cell_type": "markdown",
   "metadata": {},
   "source": [
    "* We are assuming you will store the notebooks in a subfolder, therefore when running the notebook in the editor, you will need to change the working directory"
   ]
  },
  {
   "cell_type": "markdown",
   "metadata": {},
   "source": [
    "We need to change the working directory from its current folder to its parent folder\n",
    "* We access the current directory with os.getcwd()"
   ]
  },
  {
   "cell_type": "code",
   "execution_count": 1,
   "metadata": {},
   "outputs": [
    {
     "data": {
      "text/plain": [
       "'/workspace/milestone-covid-19-study/jupyter_notebooks'"
      ]
     },
     "execution_count": 1,
     "metadata": {},
     "output_type": "execute_result"
    }
   ],
   "source": [
    "import os\n",
    "current_dir = os.getcwd()\n",
    "current_dir"
   ]
  },
  {
   "cell_type": "markdown",
   "metadata": {},
   "source": [
    "We want to make the parent of the current directory the new current directory\n",
    "* os.path.dirname() gets the parent directory\n",
    "* os.chir() defines the new current directory"
   ]
  },
  {
   "cell_type": "code",
   "execution_count": 2,
   "metadata": {},
   "outputs": [
    {
     "name": "stdout",
     "output_type": "stream",
     "text": [
      "You set a new current directory\n"
     ]
    }
   ],
   "source": [
    "os.chdir(os.path.dirname(current_dir))\n",
    "print(\"You set a new current directory\")"
   ]
  },
  {
   "cell_type": "markdown",
   "metadata": {},
   "source": [
    "Confirm the new current directory"
   ]
  },
  {
   "cell_type": "code",
   "execution_count": 3,
   "metadata": {},
   "outputs": [
    {
     "data": {
      "text/plain": [
       "'/workspace/milestone-covid-19-study'"
      ]
     },
     "execution_count": 3,
     "metadata": {},
     "output_type": "execute_result"
    }
   ],
   "source": [
    "current_dir = os.getcwd()\n",
    "current_dir"
   ]
  },
  {
   "cell_type": "markdown",
   "metadata": {},
   "source": [
    "---"
   ]
  },
  {
   "cell_type": "markdown",
   "metadata": {},
   "source": [
    "## Load Data"
   ]
  },
  {
   "cell_type": "code",
   "execution_count": 4,
   "metadata": {},
   "outputs": [
    {
     "name": "stdout",
     "output_type": "stream",
     "text": [
      "(62236, 16)\n"
     ]
    },
    {
     "data": {
      "text/html": [
       "<div>\n",
       "<style scoped>\n",
       "    .dataframe tbody tr th:only-of-type {\n",
       "        vertical-align: middle;\n",
       "    }\n",
       "\n",
       "    .dataframe tbody tr th {\n",
       "        vertical-align: top;\n",
       "    }\n",
       "\n",
       "    .dataframe thead th {\n",
       "        text-align: right;\n",
       "    }\n",
       "</style>\n",
       "<table border=\"1\" class=\"dataframe\">\n",
       "  <thead>\n",
       "    <tr style=\"text-align: right;\">\n",
       "      <th></th>\n",
       "      <th>SEX</th>\n",
       "      <th>INTUBED</th>\n",
       "      <th>PNEUMONIA</th>\n",
       "      <th>AGE</th>\n",
       "      <th>DIABETES</th>\n",
       "      <th>COPD</th>\n",
       "      <th>ASTHMA</th>\n",
       "      <th>INMSUPR</th>\n",
       "      <th>HIPERTENSION</th>\n",
       "      <th>OTHER_DISEASE</th>\n",
       "      <th>CARDIOVASCULAR</th>\n",
       "      <th>OBESITY</th>\n",
       "      <th>RENAL_CHRONIC</th>\n",
       "      <th>TOBACCO</th>\n",
       "      <th>ICU</th>\n",
       "      <th>DIED</th>\n",
       "    </tr>\n",
       "  </thead>\n",
       "  <tbody>\n",
       "    <tr>\n",
       "      <th>0</th>\n",
       "      <td>0</td>\n",
       "      <td>0</td>\n",
       "      <td>0</td>\n",
       "      <td>76</td>\n",
       "      <td>0</td>\n",
       "      <td>0</td>\n",
       "      <td>0</td>\n",
       "      <td>0</td>\n",
       "      <td>1</td>\n",
       "      <td>1</td>\n",
       "      <td>0</td>\n",
       "      <td>0</td>\n",
       "      <td>0</td>\n",
       "      <td>0</td>\n",
       "      <td>0</td>\n",
       "      <td>0</td>\n",
       "    </tr>\n",
       "    <tr>\n",
       "      <th>1</th>\n",
       "      <td>0</td>\n",
       "      <td>0</td>\n",
       "      <td>1</td>\n",
       "      <td>91</td>\n",
       "      <td>1</td>\n",
       "      <td>0</td>\n",
       "      <td>0</td>\n",
       "      <td>0</td>\n",
       "      <td>1</td>\n",
       "      <td>0</td>\n",
       "      <td>0</td>\n",
       "      <td>0</td>\n",
       "      <td>0</td>\n",
       "      <td>0</td>\n",
       "      <td>0</td>\n",
       "      <td>0</td>\n",
       "    </tr>\n",
       "    <tr>\n",
       "      <th>2</th>\n",
       "      <td>0</td>\n",
       "      <td>0</td>\n",
       "      <td>1</td>\n",
       "      <td>39</td>\n",
       "      <td>0</td>\n",
       "      <td>0</td>\n",
       "      <td>0</td>\n",
       "      <td>0</td>\n",
       "      <td>0</td>\n",
       "      <td>0</td>\n",
       "      <td>0</td>\n",
       "      <td>0</td>\n",
       "      <td>0</td>\n",
       "      <td>0</td>\n",
       "      <td>1</td>\n",
       "      <td>1</td>\n",
       "    </tr>\n",
       "  </tbody>\n",
       "</table>\n",
       "</div>"
      ],
      "text/plain": [
       "  SEX INTUBED PNEUMONIA  AGE DIABETES COPD ASTHMA INMSUPR HIPERTENSION  \\\n",
       "0   0       0         0   76        0    0      0       0            1   \n",
       "1   0       0         1   91        1    0      0       0            1   \n",
       "2   0       0         1   39        0    0      0       0            0   \n",
       "\n",
       "  OTHER_DISEASE CARDIOVASCULAR OBESITY RENAL_CHRONIC TOBACCO ICU  DIED  \n",
       "0             1              0       0             0       0   0     0  \n",
       "1             0              0       0             0       0   0     0  \n",
       "2             0              0       0             0       0   1     1  "
      ]
     },
     "execution_count": 4,
     "metadata": {},
     "output_type": "execute_result"
    }
   ],
   "source": [
    "import numpy as np\n",
    "import pandas as pd\n",
    "df = pd.read_csv(\"outputs/datasets/collection/covid-19-dataset.csv\")\n",
    "\n",
    "binary_columns = ['SEX', 'INTUBED', 'PNEUMONIA', 'DIABETES', \n",
    "                  'COPD', 'ASTHMA', 'INMSUPR', 'HIPERTENSION', \n",
    "                  'OTHER_DISEASE', 'CARDIOVASCULAR', 'OBESITY', \n",
    "                  'RENAL_CHRONIC', 'TOBACCO', 'ICU', 'DIED']\n",
    "\n",
    "df[binary_columns] = df[binary_columns].applymap(lambda x: 1 if x == \"Yes\" else 0)\n",
    "\n",
    "categorical_columns = ['SEX', 'INTUBED', 'PNEUMONIA', 'DIABETES', \n",
    "                       'COPD', 'ASTHMA', 'INMSUPR', 'HIPERTENSION', \n",
    "                       'OTHER_DISEASE', 'CARDIOVASCULAR', 'OBESITY', \n",
    "                       'RENAL_CHRONIC', 'TOBACCO', 'ICU']\n",
    "\n",
    "df[categorical_columns] = df[categorical_columns].astype('object')\n",
    "\n",
    "df = df.drop(labels=['USMER', 'MEDICAL_UNIT'], axis=1)\n",
    "\n",
    "print(df.shape)\n",
    "df.head(3)"
   ]
  },
  {
   "cell_type": "markdown",
   "metadata": {},
   "source": [
    "---"
   ]
  },
  {
   "cell_type": "markdown",
   "metadata": {},
   "source": [
    "### ML Pipeline: Regressor"
   ]
  },
  {
   "cell_type": "code",
   "execution_count": 5,
   "metadata": {},
   "outputs": [
    {
     "name": "stderr",
     "output_type": "stream",
     "text": [
      "/workspace/.pip-modules/lib/python3.8/site-packages/xgboost/compat.py:93: FutureWarning: pandas.Int64Index is deprecated and will be removed from pandas in a future version. Use pandas.Index with the appropriate dtype instead.\n",
      "  from pandas import MultiIndex, Int64Index\n"
     ]
    }
   ],
   "source": [
    "from sklearn.pipeline import Pipeline\n",
    "from feature_engine.encoding import OrdinalEncoder\n",
    "from feature_engine.selection import SmartCorrelatedSelection\n",
    "from sklearn.preprocessing import StandardScaler\n",
    "from sklearn.feature_selection import SelectFromModel\n",
    "from sklearn.ensemble import GradientBoostingRegressor, RandomForestRegressor\n",
    "from sklearn.tree import DecisionTreeRegressor\n",
    "from sklearn.linear_model import LinearRegression\n",
    "from sklearn.linear_model import LogisticRegression\n",
    "from xgboost import XGBRegressor\n",
    "from sklearn.ensemble import AdaBoostRegressor, ExtraTreesRegressor\n",
    "\n",
    "def PipelineOptimization(model):\n",
    "    categorical_vars = ['SEX', 'INTUBED', 'PNEUMONIA', 'DIABETES', \n",
    "                        'COPD', 'ASTHMA', 'INMSUPR', 'HIPERTENSION', \n",
    "                        'OTHER_DISEASE', 'CARDIOVASCULAR', 'OBESITY', \n",
    "                        'RENAL_CHRONIC', 'TOBACCO', 'ICU']\n",
    "\n",
    "    pipeline_base = Pipeline([\n",
    "        (\"OrdinalCategoricalEncoder\", OrdinalEncoder(\n",
    "            encoding_method='arbitrary',\n",
    "            variables=categorical_vars\n",
    "        )),\n",
    "        \n",
    "        (\"SmartCorrelatedSelection\", SmartCorrelatedSelection(\n",
    "            variables=None, method=\"spearman\", threshold=0.6, selection_method=\"variance\")),\n",
    "        \n",
    "        (\"feat_scaling\", StandardScaler()),\n",
    "        \n",
    "        (\"feat_selection\", SelectFromModel(model)),\n",
    "        \n",
    "        (\"model\", model),\n",
    "    ])\n",
    "    return pipeline_base"
   ]
  },
  {
   "cell_type": "markdown",
   "metadata": {},
   "source": [
    "### Hyperparameter Optimization"
   ]
  },
  {
   "cell_type": "code",
   "execution_count": 6,
   "metadata": {},
   "outputs": [],
   "source": [
    "from sklearn.model_selection import GridSearchCV\n",
    "from sklearn.pipeline import Pipeline\n",
    "from sklearn.base import BaseEstimator\n",
    "\n",
    "class HyperparameterOptimizationSearch(BaseEstimator):\n",
    "    def __init__(self, models, params):\n",
    "        self.models = models\n",
    "        self.params = params\n",
    "        self.keys = models.keys()\n",
    "        self.grid_searches = {}\n",
    "\n",
    "    def fit(self, X, y, cv, n_jobs, verbose=1, scoring=None):\n",
    "        for key in self.keys:\n",
    "            print(f\"\\nRunning GridSearchCV for {key} \\n\")\n",
    "            model = PipelineOptimization(self.models[key])\n",
    "\n",
    "            params = self.params[key]\n",
    "            gs = GridSearchCV(model, params, cv=cv, n_jobs=n_jobs,\n",
    "                              verbose=verbose, scoring=scoring)\n",
    "            gs.fit(X, y)\n",
    "            self.grid_searches[key] = gs\n",
    "\n",
    "    def score_summary(self, sort_by='mean_score'):\n",
    "        def row(key, scores, params):\n",
    "            d = {\n",
    "                'estimator': key,\n",
    "                'min_score': min(scores),\n",
    "                'max_score': max(scores),\n",
    "                'mean_score': np.mean(scores),\n",
    "                'std_score': np.std(scores),\n",
    "            }\n",
    "            return pd.Series({**params, **d})\n",
    "\n",
    "        rows = []\n",
    "        for k in self.grid_searches:\n",
    "            params = self.grid_searches[k].cv_results_['params']\n",
    "            scores = []\n",
    "            for i in range(self.grid_searches[k].cv):\n",
    "                key = \"split{}_test_score\".format(i)\n",
    "                r = self.grid_searches[k].cv_results_[key]\n",
    "                scores.append(r.reshape(len(params), 1))\n",
    "\n",
    "            all_scores = np.hstack(scores)\n",
    "            for p, s in zip(params, all_scores):\n",
    "                rows.append((row(k, s, p)))\n",
    "\n",
    "        df = pd.concat(rows, axis=1).T.sort_values([sort_by], ascending=False)\n",
    "\n",
    "        columns = ['estimator', 'min_score',\n",
    "                   'mean_score', 'max_score', 'std_score']\n",
    "        columns = columns + [c for c in df.columns if c not in columns]\n",
    "\n",
    "        return df[columns], self.grid_searches"
   ]
  },
  {
   "cell_type": "markdown",
   "metadata": {},
   "source": [
    "#### Split Train Test Set"
   ]
  },
  {
   "cell_type": "code",
   "execution_count": 7,
   "metadata": {},
   "outputs": [
    {
     "name": "stdout",
     "output_type": "stream",
     "text": [
      "* Train set: (49788, 15) (49788,) \n",
      "* Test set: (12448, 15) (12448,)\n"
     ]
    }
   ],
   "source": [
    "from sklearn.model_selection import train_test_split\n",
    "\n",
    "X = df.drop(['DIED'], axis=1)\n",
    "y = df['DIED']\n",
    "\n",
    "X_train, X_test, y_train, y_test = train_test_split(\n",
    "    X, y, test_size=0.2, random_state=0\n",
    ")\n",
    "\n",
    "print(\"* Train set:\", X_train.shape, y_train.shape,\n",
    "      \"\\n* Test set:\", X_test.shape, y_test.shape)"
   ]
  },
  {
   "cell_type": "markdown",
   "metadata": {},
   "source": [
    "### Grid Search CV - Sklearn"
   ]
  },
  {
   "cell_type": "code",
   "execution_count": 8,
   "metadata": {},
   "outputs": [],
   "source": [
    "models_quick_search = {\n",
    "    \"LogisticRegression\": LogisticRegression(),\n",
    "    \"DecisionTreeRegressor\": DecisionTreeRegressor(random_state=0),\n",
    "    \"RandomForestRegressor\": RandomForestRegressor(random_state=0),\n",
    "    \"ExtraTreesRegressor\": ExtraTreesRegressor(random_state=0),\n",
    "    \"AdaBoostRegressor\": AdaBoostRegressor(random_state=0),\n",
    "    \"GradientBoostingRegressor\": GradientBoostingRegressor(random_state=0),\n",
    "    \"XGBRegressor\": XGBRegressor(random_state=0),\n",
    "}\n",
    "\n",
    "params_quick_search = {\n",
    "    \"LogisticRegression\": {\n",
    "        'model__C': [0.1, 1, 10],\n",
    "        'model__solver': ['liblinear', 'lbfgs'],\n",
    "        'model__max_iter': [100, 200]\n",
    "    },\n",
    "    \"DecisionTreeRegressor\": {},\n",
    "    \"RandomForestRegressor\": {},\n",
    "    \"ExtraTreesRegressor\": {},\n",
    "    \"AdaBoostRegressor\": {},\n",
    "    \"GradientBoostingRegressor\": {},\n",
    "    \"XGBRegressor\": {},\n",
    "}"
   ]
  },
  {
   "cell_type": "markdown",
   "metadata": {},
   "source": [
    "### Run Grid Search"
   ]
  },
  {
   "cell_type": "code",
   "execution_count": 9,
   "metadata": {},
   "outputs": [
    {
     "name": "stdout",
     "output_type": "stream",
     "text": [
      "\n",
      "Running GridSearchCV for LogisticRegression \n",
      "\n",
      "Fitting 5 folds for each of 12 candidates, totalling 60 fits\n",
      "\n",
      "Running GridSearchCV for DecisionTreeRegressor \n",
      "\n",
      "Fitting 5 folds for each of 1 candidates, totalling 5 fits\n",
      "\n",
      "Running GridSearchCV for RandomForestRegressor \n",
      "\n",
      "Fitting 5 folds for each of 1 candidates, totalling 5 fits\n",
      "\n",
      "Running GridSearchCV for ExtraTreesRegressor \n",
      "\n",
      "Fitting 5 folds for each of 1 candidates, totalling 5 fits\n",
      "\n",
      "Running GridSearchCV for AdaBoostRegressor \n",
      "\n",
      "Fitting 5 folds for each of 1 candidates, totalling 5 fits\n",
      "\n",
      "Running GridSearchCV for GradientBoostingRegressor \n",
      "\n",
      "Fitting 5 folds for each of 1 candidates, totalling 5 fits\n",
      "\n",
      "Running GridSearchCV for XGBRegressor \n",
      "\n",
      "Fitting 5 folds for each of 1 candidates, totalling 5 fits\n"
     ]
    },
    {
     "name": "stderr",
     "output_type": "stream",
     "text": [
      "/workspace/.pip-modules/lib/python3.8/site-packages/xgboost/compat.py:93: FutureWarning: pandas.Int64Index is deprecated and will be removed from pandas in a future version. Use pandas.Index with the appropriate dtype instead.\n",
      "  from pandas import MultiIndex, Int64Index\n",
      "/workspace/.pip-modules/lib/python3.8/site-packages/xgboost/compat.py:93: FutureWarning: pandas.Int64Index is deprecated and will be removed from pandas in a future version. Use pandas.Index with the appropriate dtype instead.\n",
      "  from pandas import MultiIndex, Int64Index\n",
      "/workspace/.pip-modules/lib/python3.8/site-packages/xgboost/compat.py:93: FutureWarning: pandas.Int64Index is deprecated and will be removed from pandas in a future version. Use pandas.Index with the appropriate dtype instead.\n",
      "  from pandas import MultiIndex, Int64Index\n",
      "/workspace/.pip-modules/lib/python3.8/site-packages/xgboost/compat.py:93: FutureWarning: pandas.Int64Index is deprecated and will be removed from pandas in a future version. Use pandas.Index with the appropriate dtype instead.\n",
      "  from pandas import MultiIndex, Int64Index\n",
      "/workspace/.pip-modules/lib/python3.8/site-packages/xgboost/compat.py:93: FutureWarning: pandas.Int64Index is deprecated and will be removed from pandas in a future version. Use pandas.Index with the appropriate dtype instead.\n",
      "  from pandas import MultiIndex, Int64Index\n"
     ]
    }
   ],
   "source": [
    "search = HyperparameterOptimizationSearch(models=models_quick_search, params=params_quick_search)\n",
    "search.fit(X_train, y_train, scoring='r2', n_jobs=-1, cv=5)"
   ]
  },
  {
   "cell_type": "code",
   "execution_count": 10,
   "metadata": {},
   "outputs": [
    {
     "name": "stdout",
     "output_type": "stream",
     "text": [
      "                    estimator min_score mean_score max_score std_score  \\\n",
      "16  GradientBoostingRegressor    0.1601   0.163906  0.168607  0.002929   \n",
      "14        ExtraTreesRegressor  0.156578   0.161011  0.165709  0.002981   \n",
      "12      DecisionTreeRegressor  0.156578    0.16101  0.165709  0.002974   \n",
      "13      RandomForestRegressor  0.156304   0.160965  0.165652  0.003019   \n",
      "15          AdaBoostRegressor  0.156799   0.160084  0.164321  0.002845   \n",
      "17               XGBRegressor  0.120535   0.123844  0.127833  0.002495   \n",
      "1          LogisticRegression -0.284394  -0.270556 -0.262576  0.008287   \n",
      "11         LogisticRegression -0.284394  -0.270556 -0.262576  0.008287   \n",
      "10         LogisticRegression -0.284394  -0.270556 -0.262576  0.008287   \n",
      "0          LogisticRegression -0.284394  -0.270556 -0.262576  0.008287   \n",
      "8          LogisticRegression -0.284394  -0.270556 -0.262576  0.008287   \n",
      "7          LogisticRegression -0.284394  -0.270556 -0.262576  0.008287   \n",
      "6          LogisticRegression -0.284394  -0.270556 -0.262576  0.008287   \n",
      "5          LogisticRegression -0.284394  -0.270556 -0.262576  0.008287   \n",
      "4          LogisticRegression -0.284394  -0.270556 -0.262576  0.008287   \n",
      "3          LogisticRegression -0.284394  -0.270556 -0.262576  0.008287   \n",
      "2          LogisticRegression -0.284394  -0.270556 -0.262576  0.008287   \n",
      "9          LogisticRegression -0.284394  -0.270556 -0.262576  0.008287   \n",
      "\n",
      "   model__C model__max_iter model__solver  \n",
      "16      NaN             NaN           NaN  \n",
      "14      NaN             NaN           NaN  \n",
      "12      NaN             NaN           NaN  \n",
      "13      NaN             NaN           NaN  \n",
      "15      NaN             NaN           NaN  \n",
      "17      NaN             NaN           NaN  \n",
      "1       0.1             100         lbfgs  \n",
      "11       10             200         lbfgs  \n",
      "10       10             200     liblinear  \n",
      "0       0.1             100     liblinear  \n",
      "8        10             100     liblinear  \n",
      "7         1             200         lbfgs  \n",
      "6         1             200     liblinear  \n",
      "5         1             100         lbfgs  \n",
      "4         1             100     liblinear  \n",
      "3       0.1             200         lbfgs  \n",
      "2       0.1             200     liblinear  \n",
      "9        10             100         lbfgs  \n"
     ]
    }
   ],
   "source": [
    "grid_search_summary, grid_search_pipelines = search.score_summary(sort_by='mean_score')\n",
    "print(grid_search_summary)"
   ]
  },
  {
   "cell_type": "markdown",
   "metadata": {},
   "source": [
    "### Evaluate the Best Model"
   ]
  },
  {
   "cell_type": "code",
   "execution_count": 11,
   "metadata": {},
   "outputs": [
    {
     "name": "stdout",
     "output_type": "stream",
     "text": [
      "Best Model: GradientBoostingRegressor\n",
      "Model Evaluation \n",
      "\n",
      "* Train Set\n",
      "R2 Score: 0.167\n",
      "Mean Absolute Error: 0.407\n",
      "Mean Squared Error: 0.203\n",
      "Root Mean Squared Error: 0.451\n",
      "\n",
      "\n",
      "* Test Set\n",
      "R2 Score: 0.165\n",
      "Mean Absolute Error: 0.408\n",
      "Mean Squared Error: 0.204\n",
      "Root Mean Squared Error: 0.452\n",
      "\n",
      "\n"
     ]
    }
   ],
   "source": [
    "from sklearn.metrics import r2_score, mean_squared_error, mean_absolute_error\n",
    "\n",
    "def regression_performance(X_train, y_train, X_test, y_test, pipeline):\n",
    "    print(\"Model Evaluation \\n\")\n",
    "    print(\"* Train Set\")\n",
    "    regression_evaluation(X_train, y_train, pipeline)\n",
    "    print(\"* Test Set\")\n",
    "    regression_evaluation(X_test, y_test, pipeline)\n",
    "\n",
    "def regression_evaluation(X, y, pipeline):\n",
    "    prediction = pipeline.predict(X)\n",
    "    print('R2 Score:', r2_score(y, prediction).round(3))\n",
    "    print('Mean Absolute Error:', mean_absolute_error(y, prediction).round(3))\n",
    "    print('Mean Squared Error:', mean_squared_error(y, prediction).round(3))\n",
    "    print('Root Mean Squared Error:', np.sqrt(mean_squared_error(y, prediction)).round(3))\n",
    "    print(\"\\n\")\n",
    "\n",
    "best_model = grid_search_summary.iloc[0, 0]\n",
    "print(\"Best Model:\", best_model)\n",
    "best_regressor_pipeline = grid_search_pipelines[best_model].best_estimator_\n",
    "\n",
    "regression_performance(X_train, y_train, X_test, y_test, best_regressor_pipeline)"
   ]
  },
  {
   "cell_type": "markdown",
   "metadata": {},
   "source": [
    "### Assess Feature Importance"
   ]
  },
  {
   "cell_type": "code",
   "execution_count": 12,
   "metadata": {},
   "outputs": [
    {
     "name": "stdout",
     "output_type": "stream",
     "text": [
      "* These are the 2 most important features in descending order. The model was trained on them: \n",
      "['INTUBED', 'AGE']\n"
     ]
    },
    {
     "data": {
      "image/png": "[encoded data removed]",
      "text/plain": [
       "<Figure size 640x480 with 1 Axes>"
      ]
     },
     "metadata": {},
     "output_type": "display_data"
    }
   ],
   "source": [
    "import matplotlib.pyplot as plt\n",
    "import seaborn as sns\n",
    "\n",
    "sns.set_style('whitegrid')\n",
    "\n",
    "columns_after_data_cleaning_feat_eng = X_train.columns\n",
    "\n",
    "df_feature_importance = pd.DataFrame(data={\n",
    "    'Feature': columns_after_data_cleaning_feat_eng[best_regressor_pipeline['feat_selection'].get_support()],\n",
    "    'Importance': best_regressor_pipeline['model'].feature_importances_}\n",
    ").sort_values(by='Importance', ascending=False)\n",
    "\n",
    "print(f\"* These are the {len(df_feature_importance)} most important features in descending order. \"\n",
    "      f\"The model was trained on them: \\n{df_feature_importance['Feature'].to_list()}\")\n",
    "\n",
    "df_feature_importance.plot(kind='bar', x='Feature', y='Importance')\n",
    "plt.show()"
   ]
  },
  {
   "cell_type": "markdown",
   "metadata": {},
   "source": [
    "### Evaluate on Train and Test Sets"
   ]
  },
  {
   "cell_type": "code",
   "execution_count": 13,
   "metadata": {},
   "outputs": [
    {
     "name": "stdout",
     "output_type": "stream",
     "text": [
      "Model Evaluation \n",
      "\n",
      "* Train Set\n",
      "R2 Score: 0.167\n",
      "Mean Absolute Error: 0.407\n",
      "Mean Squared Error: 0.203\n",
      "Root Mean Squared Error: 0.451\n",
      "\n",
      "\n",
      "* Test Set\n",
      "R2 Score: 0.165\n",
      "Mean Absolute Error: 0.408\n",
      "Mean Squared Error: 0.204\n",
      "Root Mean Squared Error: 0.452\n",
      "\n",
      "\n"
     ]
    },
    {
     "data": {
      "image/png": "[encoded data removed]",
      "text/plain": [
       "<Figure size 1200x600 with 2 Axes>"
      ]
     },
     "metadata": {},
     "output_type": "display_data"
    }
   ],
   "source": [
    "from sklearn.metrics import r2_score, mean_squared_error, mean_absolute_error\n",
    "import numpy as np\n",
    "\n",
    "\n",
    "def regression_performance(X_train, y_train, X_test, y_test, pipeline):\n",
    "    print(\"Model Evaluation \\n\")\n",
    "    print(\"* Train Set\")\n",
    "    regression_evaluation(X_train, y_train, pipeline)\n",
    "    print(\"* Test Set\")\n",
    "    regression_evaluation(X_test, y_test, pipeline)\n",
    "\n",
    "\n",
    "def regression_evaluation(X, y, pipeline):\n",
    "    prediction = pipeline.predict(X)\n",
    "    print('R2 Score:', r2_score(y, prediction).round(3))\n",
    "    print('Mean Absolute Error:', mean_absolute_error(y, prediction).round(3))\n",
    "    print('Mean Squared Error:', mean_squared_error(y, prediction).round(3))\n",
    "    print('Root Mean Squared Error:', np.sqrt(\n",
    "        mean_squared_error(y, prediction)).round(3))\n",
    "    print(\"\\n\")\n",
    "\n",
    "\n",
    "def regression_evaluation_plots(X_train, y_train, X_test, y_test, pipeline, alpha_scatter=0.5):\n",
    "    pred_train = pipeline.predict(X_train)\n",
    "    pred_test = pipeline.predict(X_test)\n",
    "\n",
    "    fig, axes = plt.subplots(nrows=1, ncols=2, figsize=(12, 6))\n",
    "    sns.scatterplot(x=y_train, y=pred_train, alpha=alpha_scatter, ax=axes[0])\n",
    "    sns.lineplot(x=y_train, y=y_train, color='red', ax=axes[0])\n",
    "    axes[0].set_xlabel(\"Actual\")\n",
    "    axes[0].set_ylabel(\"Predictions\")\n",
    "    axes[0].set_title(\"Train Set\")\n",
    "\n",
    "    sns.scatterplot(x=y_test, y=pred_test, alpha=alpha_scatter, ax=axes[1])\n",
    "    sns.lineplot(x=y_test, y=y_test, color='red', ax=axes[1])\n",
    "    axes[1].set_xlabel(\"Actual\")\n",
    "    axes[1].set_ylabel(\"Predictions\")\n",
    "    axes[1].set_title(\"Test Set\")\n",
    "\n",
    "    plt.show()\n",
    "    \n",
    "regression_performance(X_train, y_train, X_test, y_test, best_regressor_pipeline)\n",
    "regression_evaluation_plots(X_train, y_train, X_test, y_test, best_regressor_pipeline)"
   ]
  },
  {
   "cell_type": "markdown",
   "metadata": {},
   "source": [
    "### Regressor with PCA"
   ]
  },
  {
   "cell_type": "markdown",
   "metadata": {},
   "source": [
    "#### Modified Code for PCA Transformation"
   ]
  },
  {
   "cell_type": "code",
   "execution_count": 14,
   "metadata": {},
   "outputs": [],
   "source": [
    "from sklearn.decomposition import PCA\n",
    "from sklearn.compose import ColumnTransformer\n",
    "from sklearn.pipeline import Pipeline\n",
    "from feature_engine.encoding import OrdinalEncoder\n",
    "from sklearn.preprocessing import StandardScaler\n",
    "\n",
    "def PipelineOptimization(model):\n",
    "    pipeline_base = Pipeline([\n",
    "        (\"OrdinalCategoricalEncoder\", OrdinalEncoder(\n",
    "            encoding_method='arbitrary',\n",
    "            variables=['SEX', 'INTUBED', 'PNEUMONIA', 'DIABETES', \n",
    "                       'COPD', 'ASTHMA', 'INMSUPR', 'HIPERTENSION', \n",
    "                       'OTHER_DISEASE', 'CARDIOVASCULAR', 'OBESITY', \n",
    "                       'RENAL_CHRONIC', 'TOBACCO', 'ICU']\n",
    "        )),\n",
    "    \n",
    "        (\"SmartCorrelatedSelection\", SmartCorrelatedSelection(\n",
    "            variables=None, \n",
    "            method=\"spearman\", \n",
    "            threshold=0.6, \n",
    "            selection_method=\"variance\")),\n",
    "        \n",
    "        (\"feat_scaling\", StandardScaler()),\n",
    "        \n",
    "        (\"feat_selection\", SelectFromModel(model)),\n",
    "        \n",
    "        (\"model\", model),\n",
    "    ])\n",
    "    \n",
    "    return pipeline_base"
   ]
  },
  {
   "cell_type": "code",
   "execution_count": 15,
   "metadata": {},
   "outputs": [
    {
     "name": "stdout",
     "output_type": "stream",
     "text": [
      "(62236, 15) \n",
      " <class 'numpy.ndarray'>\n"
     ]
    }
   ],
   "source": [
    "pipeline = PipelineOptimization(model=LogisticRegression())\n",
    "pipeline_pca = Pipeline(pipeline.steps[:3])\n",
    "df_pca = pipeline_pca.fit_transform(df.drop(['DIED'], axis=1))\n",
    "print(df_pca.shape, '\\n', type(df_pca))"
   ]
  },
  {
   "cell_type": "markdown",
   "metadata": {},
   "source": [
    "Apply PCA"
   ]
  },
  {
   "cell_type": "code",
   "execution_count": 16,
   "metadata": {},
   "outputs": [
    {
     "name": "stdout",
     "output_type": "stream",
     "text": [
      "* The 15 components explain 100.0% of the data \n",
      "\n"
     ]
    },
    {
     "data": {
      "image/png": "[encoded data removed]",
      "text/plain": [
       "<Figure size 1200x500 with 1 Axes>"
      ]
     },
     "metadata": {},
     "output_type": "display_data"
    }
   ],
   "source": [
    "import numpy as np\n",
    "from sklearn.decomposition import PCA\n",
    "\n",
    "n_components = 15\n",
    "\n",
    "\n",
    "def pca_components_analysis(df_pca, n_components):\n",
    "    pca = PCA(n_components=n_components).fit(df_pca)\n",
    "    x_PCA = pca.transform(df_pca) \n",
    "\n",
    "    ComponentsList = [\"Component \" + str(number)\n",
    "                      for number in range(n_components)]\n",
    "    dfExplVarRatio = pd.DataFrame(\n",
    "        data=np.round(100 * pca.explained_variance_ratio_, 3),\n",
    "        index=ComponentsList,\n",
    "        columns=['Explained Variance Ratio (%)'])\n",
    "\n",
    "    dfExplVarRatio['Accumulated Variance'] = dfExplVarRatio['Explained Variance Ratio (%)'].cumsum(\n",
    "    )\n",
    "\n",
    "    PercentageOfDataExplained = dfExplVarRatio['Explained Variance Ratio (%)'].sum(\n",
    "    )\n",
    "\n",
    "    print(\n",
    "        f\"* The {n_components} components explain {round(PercentageOfDataExplained,2)}% of the data \\n\")\n",
    "    plt.figure(figsize=(12, 5))\n",
    "    sns.lineplot(data=dfExplVarRatio,  marker=\"o\")\n",
    "    plt.xticks(rotation=90)\n",
    "    plt.yticks(np.arange(0, 110, 10))\n",
    "    plt.show()\n",
    "\n",
    "\n",
    "pca_components_analysis(df_pca=df_pca, n_components=n_components)"
   ]
  },
  {
   "cell_type": "code",
   "execution_count": 17,
   "metadata": {},
   "outputs": [
    {
     "name": "stdout",
     "output_type": "stream",
     "text": [
      "* The 7 components explain 60.69% of the data \n",
      "\n"
     ]
    },
    {
     "data": {
      "image/png": "[encoded data removed]",
      "text/plain": [
       "<Figure size 1200x500 with 1 Axes>"
      ]
     },
     "metadata": {},
     "output_type": "display_data"
    }
   ],
   "source": [
    "n_components = 7\n",
    "pca_components_analysis(df_pca=df_pca, n_components=n_components)"
   ]
  },
  {
   "cell_type": "markdown",
   "metadata": {},
   "source": [
    "### Rewrite ML Pipeline for Modelling"
   ]
  },
  {
   "cell_type": "code",
   "execution_count": 18,
   "metadata": {},
   "outputs": [],
   "source": [
    "from sklearn.decomposition import PCA\n",
    "\n",
    "def PipelineOptimization(model):\n",
    "    pipeline_base = Pipeline([\n",
    "\n",
    "        (\"OrdinalCategoricalEncoder\", OrdinalEncoder(\n",
    "            encoding_method='arbitrary',\n",
    "            variables=['SEX', 'INTUBED', 'PNEUMONIA', 'DIABETES', 'COPD', 'ASTHMA',\n",
    "                       'INMSUPR', 'HIPERTENSION', 'OTHER_DISEASE', 'CARDIOVASCULAR',\n",
    "                       'OBESITY', 'RENAL_CHRONIC', 'TOBACCO', 'ICU']\n",
    "        )),\n",
    "\n",
    "\n",
    "        (\"SmartCorrelatedSelection\", SmartCorrelatedSelection(variables=None,\n",
    "         method=\"spearman\", threshold=0.6, selection_method=\"variance\")),\n",
    "\n",
    "\n",
    "        (\"feat_scaling\", StandardScaler()),\n",
    "\n",
    "        # PCA replace Feature Selection\n",
    "        (\"PCA\", PCA(n_components=7, random_state=0)),\n",
    "\n",
    "        (\"model\", model),\n",
    "\n",
    "    ])\n",
    "\n",
    "    return pipeline_base"
   ]
  },
  {
   "cell_type": "markdown",
   "metadata": {},
   "source": [
    "### Grid Search CV – Sklearn"
   ]
  },
  {
   "cell_type": "code",
   "execution_count": 19,
   "metadata": {},
   "outputs": [
    {
     "name": "stdout",
     "output_type": "stream",
     "text": [
      "* Train set: (49788, 15) (49788,) \n",
      "* Test set: (12448, 15) (12448,)\n"
     ]
    }
   ],
   "source": [
    "print(\"* Train set:\", X_train.shape, y_train.shape, \"\\n* Test set:\",  X_test.shape, y_test.shape)"
   ]
  },
  {
   "cell_type": "markdown",
   "metadata": {},
   "source": [
    "Use standard hyperparameters to find the most suitable model."
   ]
  },
  {
   "cell_type": "code",
   "execution_count": 20,
   "metadata": {},
   "outputs": [],
   "source": [
    "models_quick_search = {\n",
    "    \"LogisticRegression\": LogisticRegression(),\n",
    "    \"DecisionTreeRegressor\": DecisionTreeRegressor(random_state=0),\n",
    "    \"RandomForestRegressor\": RandomForestRegressor(random_state=0),\n",
    "    \"ExtraTreesRegressor\": ExtraTreesRegressor(random_state=0),\n",
    "    \"AdaBoostRegressor\": AdaBoostRegressor(random_state=0),\n",
    "    \"GradientBoostingRegressor\": GradientBoostingRegressor(random_state=0),\n",
    "    \"XGBRegressor\": XGBRegressor(random_state=0),\n",
    "}\n",
    "\n",
    "params_quick_search = {\n",
    "    \"LogisticRegression\": {\n",
    "        'model__C': [0.1, 1, 10],\n",
    "        'model__solver': ['liblinear', 'lbfgs'],\n",
    "        'model__max_iter': [100, 200]\n",
    "    },\n",
    "    \"DecisionTreeRegressor\": {},\n",
    "    \"RandomForestRegressor\": {},\n",
    "    \"ExtraTreesRegressor\": {},\n",
    "    \"AdaBoostRegressor\": {},\n",
    "    \"GradientBoostingRegressor\": {},\n",
    "    \"XGBRegressor\": {},\n",
    "}"
   ]
  },
  {
   "cell_type": "code",
   "execution_count": 21,
   "metadata": {},
   "outputs": [
    {
     "name": "stdout",
     "output_type": "stream",
     "text": [
      "\n",
      "Running GridSearchCV for LogisticRegression \n",
      "\n",
      "Fitting 5 folds for each of 12 candidates, totalling 60 fits\n",
      "\n",
      "Running GridSearchCV for DecisionTreeRegressor \n",
      "\n",
      "Fitting 5 folds for each of 1 candidates, totalling 5 fits\n",
      "\n",
      "Running GridSearchCV for RandomForestRegressor \n",
      "\n",
      "Fitting 5 folds for each of 1 candidates, totalling 5 fits\n",
      "\n",
      "Running GridSearchCV for ExtraTreesRegressor \n",
      "\n",
      "Fitting 5 folds for each of 1 candidates, totalling 5 fits\n",
      "\n",
      "Running GridSearchCV for AdaBoostRegressor \n",
      "\n",
      "Fitting 5 folds for each of 1 candidates, totalling 5 fits\n",
      "\n",
      "Running GridSearchCV for GradientBoostingRegressor \n",
      "\n",
      "Fitting 5 folds for each of 1 candidates, totalling 5 fits\n",
      "\n",
      "Running GridSearchCV for XGBRegressor \n",
      "\n",
      "Fitting 5 folds for each of 1 candidates, totalling 5 fits\n"
     ]
    },
    {
     "name": "stderr",
     "output_type": "stream",
     "text": [
      "/workspace/.pip-modules/lib/python3.8/site-packages/xgboost/compat.py:93: FutureWarning: pandas.Int64Index is deprecated and will be removed from pandas in a future version. Use pandas.Index with the appropriate dtype instead.\n",
      "  from pandas import MultiIndex, Int64Index\n",
      "/workspace/.pip-modules/lib/python3.8/site-packages/xgboost/compat.py:93: FutureWarning: pandas.Int64Index is deprecated and will be removed from pandas in a future version. Use pandas.Index with the appropriate dtype instead.\n",
      "  from pandas import MultiIndex, Int64Index\n"
     ]
    }
   ],
   "source": [
    "quick_search = HyperparameterOptimizationSearch(models=models_quick_search, params=params_quick_search)\n",
    "quick_search.fit(X_train, y_train, scoring='r2', n_jobs=-1, cv=5)"
   ]
  },
  {
   "cell_type": "code",
   "execution_count": 22,
   "metadata": {},
   "outputs": [
    {
     "data": {
      "text/html": [
       "<div>\n",
       "<style scoped>\n",
       "    .dataframe tbody tr th:only-of-type {\n",
       "        vertical-align: middle;\n",
       "    }\n",
       "\n",
       "    .dataframe tbody tr th {\n",
       "        vertical-align: top;\n",
       "    }\n",
       "\n",
       "    .dataframe thead th {\n",
       "        text-align: right;\n",
       "    }\n",
       "</style>\n",
       "<table border=\"1\" class=\"dataframe\">\n",
       "  <thead>\n",
       "    <tr style=\"text-align: right;\">\n",
       "      <th></th>\n",
       "      <th>estimator</th>\n",
       "      <th>min_score</th>\n",
       "      <th>mean_score</th>\n",
       "      <th>max_score</th>\n",
       "      <th>std_score</th>\n",
       "      <th>model__C</th>\n",
       "      <th>model__max_iter</th>\n",
       "      <th>model__solver</th>\n",
       "    </tr>\n",
       "  </thead>\n",
       "  <tbody>\n",
       "    <tr>\n",
       "      <th>16</th>\n",
       "      <td>GradientBoostingRegressor</td>\n",
       "      <td>0.133787</td>\n",
       "      <td>0.140465</td>\n",
       "      <td>0.145204</td>\n",
       "      <td>0.004473</td>\n",
       "      <td>NaN</td>\n",
       "      <td>NaN</td>\n",
       "      <td>NaN</td>\n",
       "    </tr>\n",
       "    <tr>\n",
       "      <th>17</th>\n",
       "      <td>XGBRegressor</td>\n",
       "      <td>0.120593</td>\n",
       "      <td>0.128938</td>\n",
       "      <td>0.135906</td>\n",
       "      <td>0.005734</td>\n",
       "      <td>NaN</td>\n",
       "      <td>NaN</td>\n",
       "      <td>NaN</td>\n",
       "    </tr>\n",
       "    <tr>\n",
       "      <th>15</th>\n",
       "      <td>AdaBoostRegressor</td>\n",
       "      <td>0.094083</td>\n",
       "      <td>0.100234</td>\n",
       "      <td>0.11216</td>\n",
       "      <td>0.006786</td>\n",
       "      <td>NaN</td>\n",
       "      <td>NaN</td>\n",
       "      <td>NaN</td>\n",
       "    </tr>\n",
       "    <tr>\n",
       "      <th>13</th>\n",
       "      <td>RandomForestRegressor</td>\n",
       "      <td>-0.032731</td>\n",
       "      <td>-0.022614</td>\n",
       "      <td>-0.015451</td>\n",
       "      <td>0.006393</td>\n",
       "      <td>NaN</td>\n",
       "      <td>NaN</td>\n",
       "      <td>NaN</td>\n",
       "    </tr>\n",
       "    <tr>\n",
       "      <th>14</th>\n",
       "      <td>ExtraTreesRegressor</td>\n",
       "      <td>-0.12031</td>\n",
       "      <td>-0.109949</td>\n",
       "      <td>-0.10401</td>\n",
       "      <td>0.005688</td>\n",
       "      <td>NaN</td>\n",
       "      <td>NaN</td>\n",
       "      <td>NaN</td>\n",
       "    </tr>\n",
       "    <tr>\n",
       "      <th>12</th>\n",
       "      <td>DecisionTreeRegressor</td>\n",
       "      <td>-0.213219</td>\n",
       "      <td>-0.208623</td>\n",
       "      <td>-0.197455</td>\n",
       "      <td>0.005662</td>\n",
       "      <td>NaN</td>\n",
       "      <td>NaN</td>\n",
       "      <td>NaN</td>\n",
       "    </tr>\n",
       "    <tr>\n",
       "      <th>4</th>\n",
       "      <td>LogisticRegression</td>\n",
       "      <td>-0.442885</td>\n",
       "      <td>-0.428789</td>\n",
       "      <td>-0.41799</td>\n",
       "      <td>0.011459</td>\n",
       "      <td>1</td>\n",
       "      <td>100</td>\n",
       "      <td>liblinear</td>\n",
       "    </tr>\n",
       "    <tr>\n",
       "      <th>6</th>\n",
       "      <td>LogisticRegression</td>\n",
       "      <td>-0.442885</td>\n",
       "      <td>-0.428789</td>\n",
       "      <td>-0.41799</td>\n",
       "      <td>0.011459</td>\n",
       "      <td>1</td>\n",
       "      <td>200</td>\n",
       "      <td>liblinear</td>\n",
       "    </tr>\n",
       "    <tr>\n",
       "      <th>8</th>\n",
       "      <td>LogisticRegression</td>\n",
       "      <td>-0.442885</td>\n",
       "      <td>-0.428789</td>\n",
       "      <td>-0.41799</td>\n",
       "      <td>0.011459</td>\n",
       "      <td>10</td>\n",
       "      <td>100</td>\n",
       "      <td>liblinear</td>\n",
       "    </tr>\n",
       "    <tr>\n",
       "      <th>10</th>\n",
       "      <td>LogisticRegression</td>\n",
       "      <td>-0.442885</td>\n",
       "      <td>-0.428789</td>\n",
       "      <td>-0.41799</td>\n",
       "      <td>0.011459</td>\n",
       "      <td>10</td>\n",
       "      <td>200</td>\n",
       "      <td>liblinear</td>\n",
       "    </tr>\n",
       "    <tr>\n",
       "      <th>11</th>\n",
       "      <td>LogisticRegression</td>\n",
       "      <td>-0.443296</td>\n",
       "      <td>-0.428871</td>\n",
       "      <td>-0.41799</td>\n",
       "      <td>0.011561</td>\n",
       "      <td>10</td>\n",
       "      <td>200</td>\n",
       "      <td>lbfgs</td>\n",
       "    </tr>\n",
       "    <tr>\n",
       "      <th>9</th>\n",
       "      <td>LogisticRegression</td>\n",
       "      <td>-0.443296</td>\n",
       "      <td>-0.428871</td>\n",
       "      <td>-0.41799</td>\n",
       "      <td>0.011561</td>\n",
       "      <td>10</td>\n",
       "      <td>100</td>\n",
       "      <td>lbfgs</td>\n",
       "    </tr>\n",
       "    <tr>\n",
       "      <th>7</th>\n",
       "      <td>LogisticRegression</td>\n",
       "      <td>-0.443296</td>\n",
       "      <td>-0.428871</td>\n",
       "      <td>-0.41799</td>\n",
       "      <td>0.011561</td>\n",
       "      <td>1</td>\n",
       "      <td>200</td>\n",
       "      <td>lbfgs</td>\n",
       "    </tr>\n",
       "    <tr>\n",
       "      <th>5</th>\n",
       "      <td>LogisticRegression</td>\n",
       "      <td>-0.443296</td>\n",
       "      <td>-0.428871</td>\n",
       "      <td>-0.41799</td>\n",
       "      <td>0.011561</td>\n",
       "      <td>1</td>\n",
       "      <td>100</td>\n",
       "      <td>lbfgs</td>\n",
       "    </tr>\n",
       "    <tr>\n",
       "      <th>1</th>\n",
       "      <td>LogisticRegression</td>\n",
       "      <td>-0.443296</td>\n",
       "      <td>-0.428953</td>\n",
       "      <td>-0.418402</td>\n",
       "      <td>0.011485</td>\n",
       "      <td>0.1</td>\n",
       "      <td>100</td>\n",
       "      <td>lbfgs</td>\n",
       "    </tr>\n",
       "    <tr>\n",
       "      <th>3</th>\n",
       "      <td>LogisticRegression</td>\n",
       "      <td>-0.443296</td>\n",
       "      <td>-0.428953</td>\n",
       "      <td>-0.418402</td>\n",
       "      <td>0.011485</td>\n",
       "      <td>0.1</td>\n",
       "      <td>200</td>\n",
       "      <td>lbfgs</td>\n",
       "    </tr>\n",
       "    <tr>\n",
       "      <th>2</th>\n",
       "      <td>LogisticRegression</td>\n",
       "      <td>-0.442885</td>\n",
       "      <td>-0.428953</td>\n",
       "      <td>-0.418402</td>\n",
       "      <td>0.011318</td>\n",
       "      <td>0.1</td>\n",
       "      <td>200</td>\n",
       "      <td>liblinear</td>\n",
       "    </tr>\n",
       "    <tr>\n",
       "      <th>0</th>\n",
       "      <td>LogisticRegression</td>\n",
       "      <td>-0.442885</td>\n",
       "      <td>-0.428953</td>\n",
       "      <td>-0.418402</td>\n",
       "      <td>0.011318</td>\n",
       "      <td>0.1</td>\n",
       "      <td>100</td>\n",
       "      <td>liblinear</td>\n",
       "    </tr>\n",
       "  </tbody>\n",
       "</table>\n",
       "</div>"
      ],
      "text/plain": [
       "                    estimator min_score mean_score max_score std_score  \\\n",
       "16  GradientBoostingRegressor  0.133787   0.140465  0.145204  0.004473   \n",
       "17               XGBRegressor  0.120593   0.128938  0.135906  0.005734   \n",
       "15          AdaBoostRegressor  0.094083   0.100234   0.11216  0.006786   \n",
       "13      RandomForestRegressor -0.032731  -0.022614 -0.015451  0.006393   \n",
       "14        ExtraTreesRegressor  -0.12031  -0.109949  -0.10401  0.005688   \n",
       "12      DecisionTreeRegressor -0.213219  -0.208623 -0.197455  0.005662   \n",
       "4          LogisticRegression -0.442885  -0.428789  -0.41799  0.011459   \n",
       "6          LogisticRegression -0.442885  -0.428789  -0.41799  0.011459   \n",
       "8          LogisticRegression -0.442885  -0.428789  -0.41799  0.011459   \n",
       "10         LogisticRegression -0.442885  -0.428789  -0.41799  0.011459   \n",
       "11         LogisticRegression -0.443296  -0.428871  -0.41799  0.011561   \n",
       "9          LogisticRegression -0.443296  -0.428871  -0.41799  0.011561   \n",
       "7          LogisticRegression -0.443296  -0.428871  -0.41799  0.011561   \n",
       "5          LogisticRegression -0.443296  -0.428871  -0.41799  0.011561   \n",
       "1          LogisticRegression -0.443296  -0.428953 -0.418402  0.011485   \n",
       "3          LogisticRegression -0.443296  -0.428953 -0.418402  0.011485   \n",
       "2          LogisticRegression -0.442885  -0.428953 -0.418402  0.011318   \n",
       "0          LogisticRegression -0.442885  -0.428953 -0.418402  0.011318   \n",
       "\n",
       "   model__C model__max_iter model__solver  \n",
       "16      NaN             NaN           NaN  \n",
       "17      NaN             NaN           NaN  \n",
       "15      NaN             NaN           NaN  \n",
       "13      NaN             NaN           NaN  \n",
       "14      NaN             NaN           NaN  \n",
       "12      NaN             NaN           NaN  \n",
       "4         1             100     liblinear  \n",
       "6         1             200     liblinear  \n",
       "8        10             100     liblinear  \n",
       "10       10             200     liblinear  \n",
       "11       10             200         lbfgs  \n",
       "9        10             100         lbfgs  \n",
       "7         1             200         lbfgs  \n",
       "5         1             100         lbfgs  \n",
       "1       0.1             100         lbfgs  \n",
       "3       0.1             200         lbfgs  \n",
       "2       0.1             200     liblinear  \n",
       "0       0.1             100     liblinear  "
      ]
     },
     "execution_count": 22,
     "metadata": {},
     "output_type": "execute_result"
    }
   ],
   "source": [
    "grid_search_summary, grid_search_pipelines = quick_search.score_summary(sort_by='mean_score')\n",
    "grid_search_summary"
   ]
  },
  {
   "cell_type": "markdown",
   "metadata": {},
   "source": [
    "##### Do an extensive search on the most suitable model to find the best hyperparameter configuration."
   ]
  },
  {
   "cell_type": "code",
   "execution_count": 23,
   "metadata": {},
   "outputs": [],
   "source": [
    "models_search = {\n",
    "    \"GradientBoostingRegressor\":GradientBoostingRegressor(random_state=0),\n",
    "}\n",
    "\n",
    "params_search = {\n",
    "    \"GradientBoostingRegressor\":{\n",
    "        'model__n_estimators': [100,300],\n",
    "        'model__learning_rate': [1e-1,1e-2,1e-3], \n",
    "        'model__max_depth': [3,10, None],\n",
    "    }\n",
    "}"
   ]
  },
  {
   "cell_type": "code",
   "execution_count": 24,
   "metadata": {},
   "outputs": [
    {
     "name": "stdout",
     "output_type": "stream",
     "text": [
      "\n",
      "Running GridSearchCV for GradientBoostingRegressor \n",
      "\n",
      "Fitting 5 folds for each of 18 candidates, totalling 90 fits\n"
     ]
    }
   ],
   "source": [
    "search = HyperparameterOptimizationSearch(models=models_search, params=params_search)\n",
    "search.fit(X_train, y_train, scoring = 'r2', n_jobs=-1, cv=5)"
   ]
  },
  {
   "cell_type": "code",
   "execution_count": 25,
   "metadata": {},
   "outputs": [
    {
     "data": {
      "text/html": [
       "<div>\n",
       "<style scoped>\n",
       "    .dataframe tbody tr th:only-of-type {\n",
       "        vertical-align: middle;\n",
       "    }\n",
       "\n",
       "    .dataframe tbody tr th {\n",
       "        vertical-align: top;\n",
       "    }\n",
       "\n",
       "    .dataframe thead th {\n",
       "        text-align: right;\n",
       "    }\n",
       "</style>\n",
       "<table border=\"1\" class=\"dataframe\">\n",
       "  <thead>\n",
       "    <tr style=\"text-align: right;\">\n",
       "      <th></th>\n",
       "      <th>estimator</th>\n",
       "      <th>min_score</th>\n",
       "      <th>mean_score</th>\n",
       "      <th>max_score</th>\n",
       "      <th>std_score</th>\n",
       "      <th>model__learning_rate</th>\n",
       "      <th>model__max_depth</th>\n",
       "      <th>model__n_estimators</th>\n",
       "    </tr>\n",
       "  </thead>\n",
       "  <tbody>\n",
       "    <tr>\n",
       "      <th>1</th>\n",
       "      <td>GradientBoostingRegressor</td>\n",
       "      <td>0.136323</td>\n",
       "      <td>0.145605</td>\n",
       "      <td>0.151319</td>\n",
       "      <td>0.005466</td>\n",
       "      <td>0.1</td>\n",
       "      <td>3</td>\n",
       "      <td>300</td>\n",
       "    </tr>\n",
       "    <tr>\n",
       "      <th>0</th>\n",
       "      <td>GradientBoostingRegressor</td>\n",
       "      <td>0.133787</td>\n",
       "      <td>0.140465</td>\n",
       "      <td>0.145204</td>\n",
       "      <td>0.004473</td>\n",
       "      <td>0.1</td>\n",
       "      <td>3</td>\n",
       "      <td>100</td>\n",
       "    </tr>\n",
       "    <tr>\n",
       "      <th>9</th>\n",
       "      <td>GradientBoostingRegressor</td>\n",
       "      <td>0.127074</td>\n",
       "      <td>0.134612</td>\n",
       "      <td>0.14177</td>\n",
       "      <td>0.00509</td>\n",
       "      <td>0.01</td>\n",
       "      <td>10</td>\n",
       "      <td>300</td>\n",
       "    </tr>\n",
       "    <tr>\n",
       "      <th>8</th>\n",
       "      <td>GradientBoostingRegressor</td>\n",
       "      <td>0.124157</td>\n",
       "      <td>0.129971</td>\n",
       "      <td>0.134571</td>\n",
       "      <td>0.003494</td>\n",
       "      <td>0.01</td>\n",
       "      <td>10</td>\n",
       "      <td>100</td>\n",
       "    </tr>\n",
       "    <tr>\n",
       "      <th>7</th>\n",
       "      <td>GradientBoostingRegressor</td>\n",
       "      <td>0.121128</td>\n",
       "      <td>0.126653</td>\n",
       "      <td>0.13228</td>\n",
       "      <td>0.004754</td>\n",
       "      <td>0.01</td>\n",
       "      <td>3</td>\n",
       "      <td>300</td>\n",
       "    </tr>\n",
       "    <tr>\n",
       "      <th>2</th>\n",
       "      <td>GradientBoostingRegressor</td>\n",
       "      <td>0.108387</td>\n",
       "      <td>0.116003</td>\n",
       "      <td>0.122862</td>\n",
       "      <td>0.004876</td>\n",
       "      <td>0.1</td>\n",
       "      <td>10</td>\n",
       "      <td>100</td>\n",
       "    </tr>\n",
       "    <tr>\n",
       "      <th>6</th>\n",
       "      <td>GradientBoostingRegressor</td>\n",
       "      <td>0.093548</td>\n",
       "      <td>0.096959</td>\n",
       "      <td>0.100612</td>\n",
       "      <td>0.00292</td>\n",
       "      <td>0.01</td>\n",
       "      <td>3</td>\n",
       "      <td>100</td>\n",
       "    </tr>\n",
       "    <tr>\n",
       "      <th>3</th>\n",
       "      <td>GradientBoostingRegressor</td>\n",
       "      <td>0.062659</td>\n",
       "      <td>0.070961</td>\n",
       "      <td>0.075474</td>\n",
       "      <td>0.004571</td>\n",
       "      <td>0.1</td>\n",
       "      <td>10</td>\n",
       "      <td>300</td>\n",
       "    </tr>\n",
       "    <tr>\n",
       "      <th>15</th>\n",
       "      <td>GradientBoostingRegressor</td>\n",
       "      <td>0.068218</td>\n",
       "      <td>0.070844</td>\n",
       "      <td>0.072596</td>\n",
       "      <td>0.001442</td>\n",
       "      <td>0.001</td>\n",
       "      <td>10</td>\n",
       "      <td>300</td>\n",
       "    </tr>\n",
       "    <tr>\n",
       "      <th>13</th>\n",
       "      <td>GradientBoostingRegressor</td>\n",
       "      <td>0.046566</td>\n",
       "      <td>0.047643</td>\n",
       "      <td>0.049069</td>\n",
       "      <td>0.000876</td>\n",
       "      <td>0.001</td>\n",
       "      <td>3</td>\n",
       "      <td>300</td>\n",
       "    </tr>\n",
       "    <tr>\n",
       "      <th>17</th>\n",
       "      <td>GradientBoostingRegressor</td>\n",
       "      <td>0.043277</td>\n",
       "      <td>0.045215</td>\n",
       "      <td>0.047118</td>\n",
       "      <td>0.001268</td>\n",
       "      <td>0.001</td>\n",
       "      <td>None</td>\n",
       "      <td>300</td>\n",
       "    </tr>\n",
       "    <tr>\n",
       "      <th>14</th>\n",
       "      <td>GradientBoostingRegressor</td>\n",
       "      <td>0.027656</td>\n",
       "      <td>0.028828</td>\n",
       "      <td>0.029441</td>\n",
       "      <td>0.00061</td>\n",
       "      <td>0.001</td>\n",
       "      <td>10</td>\n",
       "      <td>100</td>\n",
       "    </tr>\n",
       "    <tr>\n",
       "      <th>16</th>\n",
       "      <td>GradientBoostingRegressor</td>\n",
       "      <td>0.023507</td>\n",
       "      <td>0.024185</td>\n",
       "      <td>0.024823</td>\n",
       "      <td>0.00045</td>\n",
       "      <td>0.001</td>\n",
       "      <td>None</td>\n",
       "      <td>100</td>\n",
       "    </tr>\n",
       "    <tr>\n",
       "      <th>12</th>\n",
       "      <td>GradientBoostingRegressor</td>\n",
       "      <td>0.018483</td>\n",
       "      <td>0.018902</td>\n",
       "      <td>0.019555</td>\n",
       "      <td>0.000368</td>\n",
       "      <td>0.001</td>\n",
       "      <td>3</td>\n",
       "      <td>100</td>\n",
       "    </tr>\n",
       "    <tr>\n",
       "      <th>10</th>\n",
       "      <td>GradientBoostingRegressor</td>\n",
       "      <td>-0.010269</td>\n",
       "      <td>-0.005279</td>\n",
       "      <td>-0.000213</td>\n",
       "      <td>0.003514</td>\n",
       "      <td>0.01</td>\n",
       "      <td>None</td>\n",
       "      <td>100</td>\n",
       "    </tr>\n",
       "    <tr>\n",
       "      <th>11</th>\n",
       "      <td>GradientBoostingRegressor</td>\n",
       "      <td>-0.162819</td>\n",
       "      <td>-0.154771</td>\n",
       "      <td>-0.146824</td>\n",
       "      <td>0.006147</td>\n",
       "      <td>0.01</td>\n",
       "      <td>None</td>\n",
       "      <td>300</td>\n",
       "    </tr>\n",
       "    <tr>\n",
       "      <th>4</th>\n",
       "      <td>GradientBoostingRegressor</td>\n",
       "      <td>-0.196371</td>\n",
       "      <td>-0.187464</td>\n",
       "      <td>-0.178097</td>\n",
       "      <td>0.006806</td>\n",
       "      <td>0.1</td>\n",
       "      <td>None</td>\n",
       "      <td>100</td>\n",
       "    </tr>\n",
       "    <tr>\n",
       "      <th>5</th>\n",
       "      <td>GradientBoostingRegressor</td>\n",
       "      <td>-0.19639</td>\n",
       "      <td>-0.187482</td>\n",
       "      <td>-0.178115</td>\n",
       "      <td>0.006806</td>\n",
       "      <td>0.1</td>\n",
       "      <td>None</td>\n",
       "      <td>300</td>\n",
       "    </tr>\n",
       "  </tbody>\n",
       "</table>\n",
       "</div>"
      ],
      "text/plain": [
       "                    estimator min_score mean_score max_score std_score  \\\n",
       "1   GradientBoostingRegressor  0.136323   0.145605  0.151319  0.005466   \n",
       "0   GradientBoostingRegressor  0.133787   0.140465  0.145204  0.004473   \n",
       "9   GradientBoostingRegressor  0.127074   0.134612   0.14177   0.00509   \n",
       "8   GradientBoostingRegressor  0.124157   0.129971  0.134571  0.003494   \n",
       "7   GradientBoostingRegressor  0.121128   0.126653   0.13228  0.004754   \n",
       "2   GradientBoostingRegressor  0.108387   0.116003  0.122862  0.004876   \n",
       "6   GradientBoostingRegressor  0.093548   0.096959  0.100612   0.00292   \n",
       "3   GradientBoostingRegressor  0.062659   0.070961  0.075474  0.004571   \n",
       "15  GradientBoostingRegressor  0.068218   0.070844  0.072596  0.001442   \n",
       "13  GradientBoostingRegressor  0.046566   0.047643  0.049069  0.000876   \n",
       "17  GradientBoostingRegressor  0.043277   0.045215  0.047118  0.001268   \n",
       "14  GradientBoostingRegressor  0.027656   0.028828  0.029441   0.00061   \n",
       "16  GradientBoostingRegressor  0.023507   0.024185  0.024823   0.00045   \n",
       "12  GradientBoostingRegressor  0.018483   0.018902  0.019555  0.000368   \n",
       "10  GradientBoostingRegressor -0.010269  -0.005279 -0.000213  0.003514   \n",
       "11  GradientBoostingRegressor -0.162819  -0.154771 -0.146824  0.006147   \n",
       "4   GradientBoostingRegressor -0.196371  -0.187464 -0.178097  0.006806   \n",
       "5   GradientBoostingRegressor  -0.19639  -0.187482 -0.178115  0.006806   \n",
       "\n",
       "   model__learning_rate model__max_depth model__n_estimators  \n",
       "1                   0.1                3                 300  \n",
       "0                   0.1                3                 100  \n",
       "9                  0.01               10                 300  \n",
       "8                  0.01               10                 100  \n",
       "7                  0.01                3                 300  \n",
       "2                   0.1               10                 100  \n",
       "6                  0.01                3                 100  \n",
       "3                   0.1               10                 300  \n",
       "15                0.001               10                 300  \n",
       "13                0.001                3                 300  \n",
       "17                0.001             None                 300  \n",
       "14                0.001               10                 100  \n",
       "16                0.001             None                 100  \n",
       "12                0.001                3                 100  \n",
       "10                 0.01             None                 100  \n",
       "11                 0.01             None                 300  \n",
       "4                   0.1             None                 100  \n",
       "5                   0.1             None                 300  "
      ]
     },
     "execution_count": 25,
     "metadata": {},
     "output_type": "execute_result"
    }
   ],
   "source": [
    "grid_search_summary, grid_search_pipelines = search.score_summary(sort_by='mean_score')\n",
    "grid_search_summary"
   ]
  },
  {
   "cell_type": "code",
   "execution_count": 26,
   "metadata": {},
   "outputs": [
    {
     "data": {
      "text/plain": [
       "'GradientBoostingRegressor'"
      ]
     },
     "execution_count": 26,
     "metadata": {},
     "output_type": "execute_result"
    }
   ],
   "source": [
    "best_model = grid_search_summary.iloc[0,0]\n",
    "best_model"
   ]
  },
  {
   "cell_type": "code",
   "execution_count": 27,
   "metadata": {},
   "outputs": [
    {
     "data": {
      "text/plain": [
       "{'model__learning_rate': 0.1,\n",
       " 'model__max_depth': 3,\n",
       " 'model__n_estimators': 300}"
      ]
     },
     "execution_count": 27,
     "metadata": {},
     "output_type": "execute_result"
    }
   ],
   "source": [
    "grid_search_pipelines[best_model].best_params_"
   ]
  },
  {
   "cell_type": "code",
   "execution_count": 28,
   "metadata": {},
   "outputs": [
    {
     "data": {
      "text/plain": [
       "Pipeline(steps=[('OrdinalCategoricalEncoder',\n",
       "                 OrdinalEncoder(encoding_method='arbitrary',\n",
       "                                variables=['SEX', 'INTUBED', 'PNEUMONIA',\n",
       "                                           'DIABETES', 'COPD', 'ASTHMA',\n",
       "                                           'INMSUPR', 'HIPERTENSION',\n",
       "                                           'OTHER_DISEASE', 'CARDIOVASCULAR',\n",
       "                                           'OBESITY', 'RENAL_CHRONIC',\n",
       "                                           'TOBACCO', 'ICU'])),\n",
       "                ('SmartCorrelatedSelection',\n",
       "                 SmartCorrelatedSelection(method='spearman',\n",
       "                                          selection_method='variance',\n",
       "                                          threshold=0.6,\n",
       "                                          variables=['SEX', 'INTUBED',\n",
       "                                                     'PNEUMONIA', 'AGE',\n",
       "                                                     'DIABETES', 'COPD',\n",
       "                                                     'ASTHMA', 'INMSUPR',\n",
       "                                                     'HIPERTENSION',\n",
       "                                                     'OTHER_DISEASE',\n",
       "                                                     'CARDIOVASCULAR',\n",
       "                                                     'OBESITY', 'RENAL_CHRONIC',\n",
       "                                                     'TOBACCO', 'ICU'])),\n",
       "                ('feat_scaling', StandardScaler()),\n",
       "                ('PCA', PCA(n_components=7, random_state=0)),\n",
       "                ('model',\n",
       "                 GradientBoostingRegressor(n_estimators=300, random_state=0))])"
      ]
     },
     "execution_count": 28,
     "metadata": {},
     "output_type": "execute_result"
    }
   ],
   "source": [
    "best_regressor_pipeline = grid_search_pipelines[best_model].best_estimator_\n",
    "best_regressor_pipeline"
   ]
  },
  {
   "cell_type": "markdown",
   "metadata": {},
   "source": [
    "#### Evaluate Regressor on Train and Tests Sets"
   ]
  },
  {
   "cell_type": "code",
   "execution_count": 29,
   "metadata": {},
   "outputs": [
    {
     "name": "stdout",
     "output_type": "stream",
     "text": [
      "Model Evaluation \n",
      "\n",
      "* Train Set\n",
      "R2 Score: 0.179\n",
      "Mean Absolute Error: 0.409\n",
      "Mean Squared Error: 0.2\n",
      "Root Mean Squared Error: 0.448\n",
      "\n",
      "\n",
      "* Test Set\n",
      "R2 Score: 0.147\n",
      "Mean Absolute Error: 0.418\n",
      "Mean Squared Error: 0.208\n",
      "Root Mean Squared Error: 0.457\n",
      "\n",
      "\n"
     ]
    },
    {
     "data": {
      "image/png": "[encoded data removed]",
      "text/plain": [
       "<Figure size 1200x600 with 2 Axes>"
      ]
     },
     "metadata": {},
     "output_type": "display_data"
    }
   ],
   "source": [
    "regression_performance(X_train, y_train, X_test, y_test,best_regressor_pipeline)\n",
    "regression_evaluation_plots(X_train, y_train, X_test, y_test,\n",
    "                            best_regressor_pipeline)"
   ]
  },
  {
   "cell_type": "markdown",
   "metadata": {},
   "source": [
    "### Convert Regression to Classification\n",
    "\n",
    "#### Convert numerical target to bins, and check if it is balanced"
   ]
  },
  {
   "cell_type": "code",
   "execution_count": 30,
   "metadata": {},
   "outputs": [
    {
     "name": "stdout",
     "output_type": "stream",
     "text": [
      "* The classes represent the following ranges: \n",
      "{'AGE': [-inf, 30.0, 41.0, 48.0, 53.0, 58.0, 63.0, 68.0, 73.0, 80.0, inf]} \n",
      "\n"
     ]
    },
    {
     "data": {
      "image/png": "[encoded data removed]",
      "text/plain": [
       "<Figure size 640x480 with 1 Axes>"
      ]
     },
     "metadata": {},
     "output_type": "display_data"
    }
   ],
   "source": [
    "import pandas as pd\n",
    "import seaborn as sns\n",
    "import matplotlib.pyplot as plt\n",
    "from feature_engine.discretisation import EqualFrequencyDiscretiser\n",
    "\n",
    "disc = EqualFrequencyDiscretiser(q=10, variables=['AGE'])\n",
    "df_clf = disc.fit_transform(df)\n",
    "\n",
    "print(f\"* The classes represent the following ranges: \\n{disc.binner_dict_} \\n\")\n",
    "\n",
    "sns.countplot(data=df_clf, x='AGE')\n",
    "plt.xticks(rotation=45)\n",
    "plt.show()"
   ]
  },
  {
   "cell_type": "code",
   "execution_count": 31,
   "metadata": {},
   "outputs": [
    {
     "data": {
      "text/html": [
       "<div>\n",
       "<style scoped>\n",
       "    .dataframe tbody tr th:only-of-type {\n",
       "        vertical-align: middle;\n",
       "    }\n",
       "\n",
       "    .dataframe tbody tr th {\n",
       "        vertical-align: top;\n",
       "    }\n",
       "\n",
       "    .dataframe thead th {\n",
       "        text-align: right;\n",
       "    }\n",
       "</style>\n",
       "<table border=\"1\" class=\"dataframe\">\n",
       "  <thead>\n",
       "    <tr style=\"text-align: right;\">\n",
       "      <th></th>\n",
       "      <th>SEX</th>\n",
       "      <th>INTUBED</th>\n",
       "      <th>PNEUMONIA</th>\n",
       "      <th>AGE</th>\n",
       "      <th>DIABETES</th>\n",
       "      <th>COPD</th>\n",
       "      <th>ASTHMA</th>\n",
       "      <th>INMSUPR</th>\n",
       "      <th>HIPERTENSION</th>\n",
       "      <th>OTHER_DISEASE</th>\n",
       "      <th>CARDIOVASCULAR</th>\n",
       "      <th>OBESITY</th>\n",
       "      <th>RENAL_CHRONIC</th>\n",
       "      <th>TOBACCO</th>\n",
       "      <th>ICU</th>\n",
       "      <th>DIED</th>\n",
       "    </tr>\n",
       "  </thead>\n",
       "  <tbody>\n",
       "    <tr>\n",
       "      <th>0</th>\n",
       "      <td>0</td>\n",
       "      <td>0</td>\n",
       "      <td>0</td>\n",
       "      <td>8</td>\n",
       "      <td>0</td>\n",
       "      <td>0</td>\n",
       "      <td>0</td>\n",
       "      <td>0</td>\n",
       "      <td>1</td>\n",
       "      <td>1</td>\n",
       "      <td>0</td>\n",
       "      <td>0</td>\n",
       "      <td>0</td>\n",
       "      <td>0</td>\n",
       "      <td>0</td>\n",
       "      <td>0</td>\n",
       "    </tr>\n",
       "    <tr>\n",
       "      <th>1</th>\n",
       "      <td>0</td>\n",
       "      <td>0</td>\n",
       "      <td>1</td>\n",
       "      <td>9</td>\n",
       "      <td>1</td>\n",
       "      <td>0</td>\n",
       "      <td>0</td>\n",
       "      <td>0</td>\n",
       "      <td>1</td>\n",
       "      <td>0</td>\n",
       "      <td>0</td>\n",
       "      <td>0</td>\n",
       "      <td>0</td>\n",
       "      <td>0</td>\n",
       "      <td>0</td>\n",
       "      <td>0</td>\n",
       "    </tr>\n",
       "    <tr>\n",
       "      <th>2</th>\n",
       "      <td>0</td>\n",
       "      <td>0</td>\n",
       "      <td>1</td>\n",
       "      <td>1</td>\n",
       "      <td>0</td>\n",
       "      <td>0</td>\n",
       "      <td>0</td>\n",
       "      <td>0</td>\n",
       "      <td>0</td>\n",
       "      <td>0</td>\n",
       "      <td>0</td>\n",
       "      <td>0</td>\n",
       "      <td>0</td>\n",
       "      <td>0</td>\n",
       "      <td>1</td>\n",
       "      <td>1</td>\n",
       "    </tr>\n",
       "  </tbody>\n",
       "</table>\n",
       "</div>"
      ],
      "text/plain": [
       "  SEX INTUBED PNEUMONIA  AGE DIABETES COPD ASTHMA INMSUPR HIPERTENSION  \\\n",
       "0   0       0         0    8        0    0      0       0            1   \n",
       "1   0       0         1    9        1    0      0       0            1   \n",
       "2   0       0         1    1        0    0      0       0            0   \n",
       "\n",
       "  OTHER_DISEASE CARDIOVASCULAR OBESITY RENAL_CHRONIC TOBACCO ICU  DIED  \n",
       "0             1              0       0             0       0   0     0  \n",
       "1             0              0       0             0       0   0     0  \n",
       "2             0              0       0             0       0   1     1  "
      ]
     },
     "execution_count": 31,
     "metadata": {},
     "output_type": "execute_result"
    }
   ],
   "source": [
    "df_clf.head(3)"
   ]
  },
  {
   "cell_type": "markdown",
   "metadata": {},
   "source": [
    "### Rewrite ML Pipeline for Modelling"
   ]
  },
  {
   "cell_type": "code",
   "execution_count": 32,
   "metadata": {},
   "outputs": [],
   "source": [
    "def PipelineOptimization(model):\n",
    "    pipeline_base = Pipeline([\n",
    "\n",
    "        (\"OrdinalCategoricalEncoder\", OrdinalEncoder(encoding_method='arbitrary',\n",
    "                                                     variables=['SEX', 'INTUBED', 'PNEUMONIA', 'DIABETES',\n",
    "                                                                'COPD', 'ASTHMA', 'INMSUPR', 'HIPERTENSION',\n",
    "                                                                'OTHER_DISEASE', 'CARDIOVASCULAR', 'OBESITY',\n",
    "                                                                'RENAL_CHRONIC', 'TOBACCO', 'ICU'])),\n",
    "\n",
    "\n",
    "        (\"SmartCorrelatedSelection\", SmartCorrelatedSelection(variables=None,\n",
    "         method=\"spearman\", threshold=0.6, selection_method=\"variance\")),\n",
    "\n",
    "        (\"feat_scaling\", StandardScaler()),\n",
    "\n",
    "        (\"feat_selection\",  SelectFromModel(model)),\n",
    "\n",
    "        (\"model\", model),\n",
    "\n",
    "    ])\n",
    "\n",
    "    return pipeline_base"
   ]
  },
  {
   "cell_type": "markdown",
   "metadata": {},
   "source": [
    "#### Load algorithms for classification"
   ]
  },
  {
   "cell_type": "code",
   "execution_count": 33,
   "metadata": {},
   "outputs": [],
   "source": [
    "from sklearn.tree import DecisionTreeClassifier \n",
    "from sklearn.ensemble import RandomForestClassifier\n",
    "from sklearn.ensemble import GradientBoostingClassifier \n",
    "from sklearn.ensemble import ExtraTreesClassifier\n",
    "from sklearn.ensemble import AdaBoostClassifier\n",
    "from xgboost import XGBClassifier"
   ]
  },
  {
   "cell_type": "markdown",
   "metadata": {},
   "source": [
    "#### Split Train Test Sets"
   ]
  },
  {
   "cell_type": "code",
   "execution_count": 34,
   "metadata": {},
   "outputs": [
    {
     "name": "stdout",
     "output_type": "stream",
     "text": [
      "* Train set: (49788, 15) (49788,) \n",
      "* Test set: (12448, 15) (12448,)\n"
     ]
    }
   ],
   "source": [
    "from sklearn.model_selection import train_test_split\n",
    "\n",
    "X_train, X_test, y_train, y_test = train_test_split(\n",
    "    df.drop(['DIED'], axis=1),\n",
    "    df['DIED'],\n",
    "    test_size=0.2,\n",
    "    random_state=0 \n",
    ")\n",
    "\n",
    "print(\"* Train set:\", X_train.shape, y_train.shape,\n",
    "      \"\\n* Test set:\",  X_test.shape, y_test.shape)"
   ]
  },
  {
   "cell_type": "markdown",
   "metadata": {},
   "source": [
    "### Grid Search CV – Sklearn\n",
    "\n",
    "#### Use standard hyper parameters to find most suitable model"
   ]
  },
  {
   "cell_type": "code",
   "execution_count": 35,
   "metadata": {},
   "outputs": [],
   "source": [
    "models_quick_search = {\n",
    "    \"XGBClassifier\": XGBClassifier(random_state=0),\n",
    "    \"DecisionTreeClassifier\": DecisionTreeClassifier(random_state=0),\n",
    "    \"RandomForestClassifier\": RandomForestClassifier(random_state=0),\n",
    "    \"GradientBoostingClassifier\": GradientBoostingClassifier(random_state=0),\n",
    "    \"ExtraTreesClassifier\": ExtraTreesClassifier(random_state=0),\n",
    "    \"AdaBoostClassifier\": AdaBoostClassifier(random_state=0),\n",
    "}\n",
    "\n",
    "params_quick_search = {\n",
    "    \"XGBClassifier\":{},\n",
    "    \"DecisionTreeClassifier\":{},\n",
    "    \"RandomForestClassifier\":{},\n",
    "    \"GradientBoostingClassifier\":{},\n",
    "    \"ExtraTreesClassifier\":{},\n",
    "    \"AdaBoostClassifier\":{},\n",
    "}"
   ]
  },
  {
   "cell_type": "markdown",
   "metadata": {},
   "source": [
    "GridSearch CV"
   ]
  },
  {
   "cell_type": "code",
   "execution_count": 36,
   "metadata": {},
   "outputs": [
    {
     "name": "stdout",
     "output_type": "stream",
     "text": [
      "\n",
      "Running GridSearchCV for XGBClassifier \n",
      "\n",
      "Fitting 5 folds for each of 1 candidates, totalling 5 fits\n"
     ]
    },
    {
     "name": "stderr",
     "output_type": "stream",
     "text": [
      "/workspace/.pip-modules/lib/python3.8/site-packages/xgboost/compat.py:93: FutureWarning: pandas.Int64Index is deprecated and will be removed from pandas in a future version. Use pandas.Index with the appropriate dtype instead.\n",
      "  from pandas import MultiIndex, Int64Index\n",
      "/workspace/.pip-modules/lib/python3.8/site-packages/xgboost/compat.py:93: FutureWarning: pandas.Int64Index is deprecated and will be removed from pandas in a future version. Use pandas.Index with the appropriate dtype instead.\n",
      "  from pandas import MultiIndex, Int64Index\n",
      "/workspace/.pip-modules/lib/python3.8/site-packages/xgboost/compat.py:93: FutureWarning: pandas.Int64Index is deprecated and will be removed from pandas in a future version. Use pandas.Index with the appropriate dtype instead.\n",
      "  from pandas import MultiIndex, Int64Index\n",
      "/workspace/.pip-modules/lib/python3.8/site-packages/xgboost/compat.py:93: FutureWarning: pandas.Int64Index is deprecated and will be removed from pandas in a future version. Use pandas.Index with the appropriate dtype instead.\n",
      "  from pandas import MultiIndex, Int64Index\n"
     ]
    },
    {
     "name": "stdout",
     "output_type": "stream",
     "text": [
      "\n",
      "Running GridSearchCV for DecisionTreeClassifier \n",
      "\n",
      "Fitting 5 folds for each of 1 candidates, totalling 5 fits\n",
      "\n",
      "Running GridSearchCV for RandomForestClassifier \n",
      "\n",
      "Fitting 5 folds for each of 1 candidates, totalling 5 fits\n",
      "\n",
      "Running GridSearchCV for GradientBoostingClassifier \n",
      "\n",
      "Fitting 5 folds for each of 1 candidates, totalling 5 fits\n",
      "\n",
      "Running GridSearchCV for ExtraTreesClassifier \n",
      "\n",
      "Fitting 5 folds for each of 1 candidates, totalling 5 fits\n",
      "\n",
      "Running GridSearchCV for AdaBoostClassifier \n",
      "\n",
      "Fitting 5 folds for each of 1 candidates, totalling 5 fits\n"
     ]
    }
   ],
   "source": [
    "from sklearn.metrics import make_scorer, recall_score\n",
    "quick_search = HyperparameterOptimizationSearch(models=models_quick_search, params=params_quick_search)\n",
    "quick_search.fit(X_train, y_train,\n",
    "                 scoring = make_scorer(recall_score, labels=[0], average=None),\n",
    "                 n_jobs=-1,\n",
    "                 cv=5)"
   ]
  },
  {
   "cell_type": "markdown",
   "metadata": {},
   "source": [
    "Check Results"
   ]
  },
  {
   "cell_type": "code",
   "execution_count": 37,
   "metadata": {},
   "outputs": [
    {
     "data": {
      "text/html": [
       "<div>\n",
       "<style scoped>\n",
       "    .dataframe tbody tr th:only-of-type {\n",
       "        vertical-align: middle;\n",
       "    }\n",
       "\n",
       "    .dataframe tbody tr th {\n",
       "        vertical-align: top;\n",
       "    }\n",
       "\n",
       "    .dataframe thead th {\n",
       "        text-align: right;\n",
       "    }\n",
       "</style>\n",
       "<table border=\"1\" class=\"dataframe\">\n",
       "  <thead>\n",
       "    <tr style=\"text-align: right;\">\n",
       "      <th></th>\n",
       "      <th>estimator</th>\n",
       "      <th>min_score</th>\n",
       "      <th>mean_score</th>\n",
       "      <th>max_score</th>\n",
       "      <th>std_score</th>\n",
       "    </tr>\n",
       "  </thead>\n",
       "  <tbody>\n",
       "    <tr>\n",
       "      <th>0</th>\n",
       "      <td>XGBClassifier</td>\n",
       "      <td>0.40466</td>\n",
       "      <td>0.418938</td>\n",
       "      <td>0.427247</td>\n",
       "      <td>0.007938</td>\n",
       "    </tr>\n",
       "    <tr>\n",
       "      <th>1</th>\n",
       "      <td>DecisionTreeClassifier</td>\n",
       "      <td>0.398478</td>\n",
       "      <td>0.411139</td>\n",
       "      <td>0.421641</td>\n",
       "      <td>0.007554</td>\n",
       "    </tr>\n",
       "    <tr>\n",
       "      <th>4</th>\n",
       "      <td>ExtraTreesClassifier</td>\n",
       "      <td>0.398478</td>\n",
       "      <td>0.411139</td>\n",
       "      <td>0.421641</td>\n",
       "      <td>0.007554</td>\n",
       "    </tr>\n",
       "    <tr>\n",
       "      <th>2</th>\n",
       "      <td>RandomForestClassifier</td>\n",
       "      <td>0.395625</td>\n",
       "      <td>0.408903</td>\n",
       "      <td>0.418312</td>\n",
       "      <td>0.007565</td>\n",
       "    </tr>\n",
       "    <tr>\n",
       "      <th>3</th>\n",
       "      <td>GradientBoostingClassifier</td>\n",
       "      <td>0.393723</td>\n",
       "      <td>0.406954</td>\n",
       "      <td>0.413555</td>\n",
       "      <td>0.006848</td>\n",
       "    </tr>\n",
       "    <tr>\n",
       "      <th>5</th>\n",
       "      <td>AdaBoostClassifier</td>\n",
       "      <td>0.289893</td>\n",
       "      <td>0.394633</td>\n",
       "      <td>0.429624</td>\n",
       "      <td>0.052712</td>\n",
       "    </tr>\n",
       "  </tbody>\n",
       "</table>\n",
       "</div>"
      ],
      "text/plain": [
       "                    estimator min_score mean_score max_score std_score\n",
       "0               XGBClassifier   0.40466   0.418938  0.427247  0.007938\n",
       "1      DecisionTreeClassifier  0.398478   0.411139  0.421641  0.007554\n",
       "4        ExtraTreesClassifier  0.398478   0.411139  0.421641  0.007554\n",
       "2      RandomForestClassifier  0.395625   0.408903  0.418312  0.007565\n",
       "3  GradientBoostingClassifier  0.393723   0.406954  0.413555  0.006848\n",
       "5          AdaBoostClassifier  0.289893   0.394633  0.429624  0.052712"
      ]
     },
     "execution_count": 37,
     "metadata": {},
     "output_type": "execute_result"
    }
   ],
   "source": [
    "grid_search_summary, grid_search_pipelines = quick_search.score_summary(sort_by='mean_score')\n",
    "grid_search_summary"
   ]
  },
  {
   "cell_type": "markdown",
   "metadata": {},
   "source": [
    "##### Do an extensive search on the most suitable model to find the best hyperparameter configuration.\n",
    "\n",
    "Define models and parameters"
   ]
  },
  {
   "cell_type": "code",
   "execution_count": 38,
   "metadata": {},
   "outputs": [],
   "source": [
    "models_search = {\n",
    "    \"AdaBoostClassifier\": AdaBoostClassifier(random_state=0),\n",
    "}\n",
    "\n",
    "params_search = {\n",
    "    \"AdaBoostClassifier\": {\n",
    "        'model__n_estimators': [50, 100, 300],\n",
    "        'model__learning_rate': [0.1, 0.01, 0.001],\n",
    "    }\n",
    "}"
   ]
  },
  {
   "cell_type": "markdown",
   "metadata": {},
   "source": [
    "Extensive GridSearch CV"
   ]
  },
  {
   "cell_type": "code",
   "execution_count": 39,
   "metadata": {},
   "outputs": [
    {
     "name": "stdout",
     "output_type": "stream",
     "text": [
      "\n",
      "Running GridSearchCV for AdaBoostClassifier \n",
      "\n",
      "Fitting 5 folds for each of 9 candidates, totalling 45 fits\n"
     ]
    }
   ],
   "source": [
    "from sklearn.metrics import make_scorer,  recall_score\n",
    "search = HyperparameterOptimizationSearch(models=models_search, params=params_search)\n",
    "search.fit(X_train, y_train,\n",
    "           scoring=make_scorer(recall_score, labels=[0], average=None),\n",
    "           n_jobs=-1, cv=5)"
   ]
  },
  {
   "cell_type": "markdown",
   "metadata": {},
   "source": [
    "Results"
   ]
  },
  {
   "cell_type": "code",
   "execution_count": 40,
   "metadata": {},
   "outputs": [
    {
     "data": {
      "text/html": [
       "<div>\n",
       "<style scoped>\n",
       "    .dataframe tbody tr th:only-of-type {\n",
       "        vertical-align: middle;\n",
       "    }\n",
       "\n",
       "    .dataframe tbody tr th {\n",
       "        vertical-align: top;\n",
       "    }\n",
       "\n",
       "    .dataframe thead th {\n",
       "        text-align: right;\n",
       "    }\n",
       "</style>\n",
       "<table border=\"1\" class=\"dataframe\">\n",
       "  <thead>\n",
       "    <tr style=\"text-align: right;\">\n",
       "      <th></th>\n",
       "      <th>estimator</th>\n",
       "      <th>min_score</th>\n",
       "      <th>mean_score</th>\n",
       "      <th>max_score</th>\n",
       "      <th>std_score</th>\n",
       "      <th>model__learning_rate</th>\n",
       "      <th>model__n_estimators</th>\n",
       "    </tr>\n",
       "  </thead>\n",
       "  <tbody>\n",
       "    <tr>\n",
       "      <th>2</th>\n",
       "      <td>AdaBoostClassifier</td>\n",
       "      <td>0.398478</td>\n",
       "      <td>0.415181</td>\n",
       "      <td>0.429624</td>\n",
       "      <td>0.011144</td>\n",
       "      <td>0.1</td>\n",
       "      <td>300</td>\n",
       "    </tr>\n",
       "    <tr>\n",
       "      <th>1</th>\n",
       "      <td>AdaBoostClassifier</td>\n",
       "      <td>0.351724</td>\n",
       "      <td>0.40795</td>\n",
       "      <td>0.430338</td>\n",
       "      <td>0.028962</td>\n",
       "      <td>0.1</td>\n",
       "      <td>100</td>\n",
       "    </tr>\n",
       "    <tr>\n",
       "      <th>0</th>\n",
       "      <td>AdaBoostClassifier</td>\n",
       "      <td>0.268426</td>\n",
       "      <td>0.380847</td>\n",
       "      <td>0.432342</td>\n",
       "      <td>0.063568</td>\n",
       "      <td>0.1</td>\n",
       "      <td>50</td>\n",
       "    </tr>\n",
       "    <tr>\n",
       "      <th>5</th>\n",
       "      <td>AdaBoostClassifier</td>\n",
       "      <td>0.0</td>\n",
       "      <td>0.326808</td>\n",
       "      <td>0.430575</td>\n",
       "      <td>0.166031</td>\n",
       "      <td>0.01</td>\n",
       "      <td>300</td>\n",
       "    </tr>\n",
       "    <tr>\n",
       "      <th>3</th>\n",
       "      <td>AdaBoostClassifier</td>\n",
       "      <td>0.0</td>\n",
       "      <td>0.0</td>\n",
       "      <td>0.0</td>\n",
       "      <td>0.0</td>\n",
       "      <td>0.01</td>\n",
       "      <td>50</td>\n",
       "    </tr>\n",
       "    <tr>\n",
       "      <th>4</th>\n",
       "      <td>AdaBoostClassifier</td>\n",
       "      <td>0.0</td>\n",
       "      <td>0.0</td>\n",
       "      <td>0.0</td>\n",
       "      <td>0.0</td>\n",
       "      <td>0.01</td>\n",
       "      <td>100</td>\n",
       "    </tr>\n",
       "    <tr>\n",
       "      <th>6</th>\n",
       "      <td>AdaBoostClassifier</td>\n",
       "      <td>0.0</td>\n",
       "      <td>0.0</td>\n",
       "      <td>0.0</td>\n",
       "      <td>0.0</td>\n",
       "      <td>0.001</td>\n",
       "      <td>50</td>\n",
       "    </tr>\n",
       "    <tr>\n",
       "      <th>7</th>\n",
       "      <td>AdaBoostClassifier</td>\n",
       "      <td>0.0</td>\n",
       "      <td>0.0</td>\n",
       "      <td>0.0</td>\n",
       "      <td>0.0</td>\n",
       "      <td>0.001</td>\n",
       "      <td>100</td>\n",
       "    </tr>\n",
       "    <tr>\n",
       "      <th>8</th>\n",
       "      <td>AdaBoostClassifier</td>\n",
       "      <td>0.0</td>\n",
       "      <td>0.0</td>\n",
       "      <td>0.0</td>\n",
       "      <td>0.0</td>\n",
       "      <td>0.001</td>\n",
       "      <td>300</td>\n",
       "    </tr>\n",
       "  </tbody>\n",
       "</table>\n",
       "</div>"
      ],
      "text/plain": [
       "            estimator min_score mean_score max_score std_score  \\\n",
       "2  AdaBoostClassifier  0.398478   0.415181  0.429624  0.011144   \n",
       "1  AdaBoostClassifier  0.351724    0.40795  0.430338  0.028962   \n",
       "0  AdaBoostClassifier  0.268426   0.380847  0.432342  0.063568   \n",
       "5  AdaBoostClassifier       0.0   0.326808  0.430575  0.166031   \n",
       "3  AdaBoostClassifier       0.0        0.0       0.0       0.0   \n",
       "4  AdaBoostClassifier       0.0        0.0       0.0       0.0   \n",
       "6  AdaBoostClassifier       0.0        0.0       0.0       0.0   \n",
       "7  AdaBoostClassifier       0.0        0.0       0.0       0.0   \n",
       "8  AdaBoostClassifier       0.0        0.0       0.0       0.0   \n",
       "\n",
       "  model__learning_rate model__n_estimators  \n",
       "2                  0.1                 300  \n",
       "1                  0.1                 100  \n",
       "0                  0.1                  50  \n",
       "5                 0.01                 300  \n",
       "3                 0.01                  50  \n",
       "4                 0.01                 100  \n",
       "6                0.001                  50  \n",
       "7                0.001                 100  \n",
       "8                0.001                 300  "
      ]
     },
     "execution_count": 40,
     "metadata": {},
     "output_type": "execute_result"
    }
   ],
   "source": [
    "grid_search_summary, grid_search_pipelines = search.score_summary(sort_by='mean_score')\n",
    "grid_search_summary"
   ]
  },
  {
   "cell_type": "markdown",
   "metadata": {},
   "source": [
    "Check best model"
   ]
  },
  {
   "cell_type": "code",
   "execution_count": 41,
   "metadata": {},
   "outputs": [
    {
     "data": {
      "text/plain": [
       "'AdaBoostClassifier'"
      ]
     },
     "execution_count": 41,
     "metadata": {},
     "output_type": "execute_result"
    }
   ],
   "source": [
    "best_model = grid_search_summary.iloc[0,0]\n",
    "best_model"
   ]
  },
  {
   "cell_type": "markdown",
   "metadata": {},
   "source": [
    "Parameters for best model"
   ]
  },
  {
   "cell_type": "code",
   "execution_count": 42,
   "metadata": {},
   "outputs": [
    {
     "data": {
      "text/plain": [
       "{'model__learning_rate': 0.1, 'model__n_estimators': 300}"
      ]
     },
     "execution_count": 42,
     "metadata": {},
     "output_type": "execute_result"
    }
   ],
   "source": [
    "best_parameters = grid_search_pipelines[best_model].best_params_\n",
    "best_parameters"
   ]
  },
  {
   "cell_type": "markdown",
   "metadata": {},
   "source": [
    "Define the best clf pipeline"
   ]
  },
  {
   "cell_type": "code",
   "execution_count": 43,
   "metadata": {},
   "outputs": [
    {
     "data": {
      "text/plain": [
       "Pipeline(steps=[('OrdinalCategoricalEncoder',\n",
       "                 OrdinalEncoder(encoding_method='arbitrary',\n",
       "                                variables=['SEX', 'INTUBED', 'PNEUMONIA',\n",
       "                                           'DIABETES', 'COPD', 'ASTHMA',\n",
       "                                           'INMSUPR', 'HIPERTENSION',\n",
       "                                           'OTHER_DISEASE', 'CARDIOVASCULAR',\n",
       "                                           'OBESITY', 'RENAL_CHRONIC',\n",
       "                                           'TOBACCO', 'ICU'])),\n",
       "                ('SmartCorrelatedSelection',\n",
       "                 SmartCorrelatedSelection(method='spearman',\n",
       "                                          selection_method='vari...\n",
       "                                          variables=['SEX', 'INTUBED',\n",
       "                                                     'PNEUMONIA', 'AGE',\n",
       "                                                     'DIABETES', 'COPD',\n",
       "                                                     'ASTHMA', 'INMSUPR',\n",
       "                                                     'HIPERTENSION',\n",
       "                                                     'OTHER_DISEASE',\n",
       "                                                     'CARDIOVASCULAR',\n",
       "                                                     'OBESITY', 'RENAL_CHRONIC',\n",
       "                                                     'TOBACCO', 'ICU'])),\n",
       "                ('feat_scaling', StandardScaler()),\n",
       "                ('feat_selection',\n",
       "                 SelectFromModel(estimator=AdaBoostClassifier(random_state=0))),\n",
       "                ('model',\n",
       "                 AdaBoostClassifier(learning_rate=0.1, n_estimators=300,\n",
       "                                    random_state=0))])"
      ]
     },
     "execution_count": 43,
     "metadata": {},
     "output_type": "execute_result"
    }
   ],
   "source": [
    "pipeline_clf = grid_search_pipelines[best_model].best_estimator_\n",
    "pipeline_clf"
   ]
  },
  {
   "cell_type": "markdown",
   "metadata": {},
   "source": [
    "### Assess feature importance\n",
    "\n",
    "We can assess feature importance for this model with .feature_importances_"
   ]
  },
  {
   "cell_type": "code",
   "execution_count": 44,
   "metadata": {},
   "outputs": [
    {
     "name": "stdout",
     "output_type": "stream",
     "text": [
      "* These are the 1 most important features in descending order. The model was trained on them: \n",
      "['AGE']\n"
     ]
    },
    {
     "data": {
      "image/png": "[encoded data removed]",
      "text/plain": [
       "<Figure size 640x480 with 1 Axes>"
      ]
     },
     "metadata": {},
     "output_type": "display_data"
    }
   ],
   "source": [
    "data_cleaning_feat_eng_steps = 2\n",
    "columns_after_data_cleaning_feat_eng = (Pipeline(pipeline_clf.steps[:data_cleaning_feat_eng_steps])\n",
    "                                        .transform(X_train)\n",
    "                                        .columns)\n",
    "\n",
    "best_features = columns_after_data_cleaning_feat_eng[pipeline_clf['feat_selection'].get_support(\n",
    ")].to_list()\n",
    "\n",
    "df_feature_importance = (pd.DataFrame(data={\n",
    "    'Feature': columns_after_data_cleaning_feat_eng[pipeline_clf['feat_selection'].get_support()],\n",
    "    'Importance': pipeline_clf['model'].feature_importances_})\n",
    "    .sort_values(by='Importance', ascending=False)\n",
    ")\n",
    "\n",
    "best_features = df_feature_importance['Feature'].to_list()\n",
    "\n",
    "print(f\"* These are the {len(best_features)} most important features in descending order. \"\n",
    "      f\"The model was trained on them: \\n{best_features}\")\n",
    "\n",
    "df_feature_importance.plot(kind='bar', x='Feature', y='Importance')\n",
    "plt.show()"
   ]
  },
  {
   "cell_type": "markdown",
   "metadata": {},
   "source": [
    "### Evaluate Classifier on Train and Test Sets\n",
    "\n",
    "Custom Function"
   ]
  },
  {
   "cell_type": "code",
   "execution_count": 45,
   "metadata": {},
   "outputs": [],
   "source": [
    "from sklearn.metrics import classification_report, confusion_matrix\n",
    "\n",
    "\n",
    "def clf_performance(X_train, y_train, X_test, y_test, pipeline, label_map):\n",
    "    print(\"#### Train Set #### \\n\")\n",
    "    confusion_matrix_and_report(X_train, y_train, pipeline, label_map)\n",
    "\n",
    "    print(\"#### Test Set ####\\n\")\n",
    "    confusion_matrix_and_report(X_test, y_test, pipeline, label_map)\n",
    "\n",
    "def confusion_matrix_and_report(X, y, pipeline, label_map):\n",
    "    prediction = pipeline.predict(X)\n",
    "    \n",
    "    labels = sorted(set(y) | set(prediction))\n",
    "    \n",
    "    cm = confusion_matrix(y_true=y, y_pred=prediction, labels=labels)\n",
    "    \n",
    "    cm_df = pd.DataFrame(cm, columns=[f\"Predicted {label}\" for label in labels],\n",
    "                            index=[f\"Actual {label}\" for label in labels])\n",
    "    \n",
    "    print('---  Confusion Matrix  ---')\n",
    "    print(cm_df)\n",
    "    print(\"\\n\")\n",
    "    \n",
    "    print('---  Classification Report  ---')\n",
    "    print(classification_report(y, prediction, target_names=[str(label) for label in labels]))"
   ]
  },
  {
   "cell_type": "code",
   "execution_count": 46,
   "metadata": {},
   "outputs": [
    {
     "data": {
      "text/plain": [
       "[-inf, 30.0, 41.0, 48.0, 53.0, 58.0, 63.0, 68.0, 73.0, 80.0, inf]"
      ]
     },
     "execution_count": 46,
     "metadata": {},
     "output_type": "execute_result"
    }
   ],
   "source": [
    "disc.binner_dict_['AGE']"
   ]
  },
  {
   "cell_type": "code",
   "execution_count": 47,
   "metadata": {},
   "outputs": [
    {
     "name": "stdout",
     "output_type": "stream",
     "text": [
      "['<30.0', '30.0 to 41.0', '41.0 to 48.0', '48.0 to 53.0', '53.0 to 58.0', '58.0 to 63.0', '63.0 to 68.0', '68.0 to 73.0', '73.0 to 80.0', '>80.0']\n"
     ]
    }
   ],
   "source": [
    "label_map = [\n",
    "    '<30.0', \n",
    "    '30.0 to 41.0',\n",
    "    '41.0 to 48.0',\n",
    "    '48.0 to 53.0',\n",
    "    '53.0 to 58.0',\n",
    "    '58.0 to 63.0',\n",
    "    '63.0 to 68.0',\n",
    "    '68.0 to 73.0',\n",
    "    '73.0 to 80.0',\n",
    "    '>80.0'\n",
    "]\n",
    "\n",
    "print(label_map)"
   ]
  },
  {
   "cell_type": "code",
   "execution_count": 48,
   "metadata": {},
   "outputs": [
    {
     "name": "stdout",
     "output_type": "stream",
     "text": [
      "#### Train Set #### \n",
      "\n",
      "---  Confusion Matrix  ---\n",
      "          Predicted 0  Predicted 1\n",
      "Actual 0         8699        12328\n",
      "Actual 1         8040        20721\n",
      "\n",
      "\n",
      "---  Classification Report  ---\n",
      "              precision    recall  f1-score   support\n",
      "\n",
      "           0       0.52      0.41      0.46     21027\n",
      "           1       0.63      0.72      0.67     28761\n",
      "\n",
      "    accuracy                           0.59     49788\n",
      "   macro avg       0.57      0.57      0.57     49788\n",
      "weighted avg       0.58      0.59      0.58     49788\n",
      "\n",
      "#### Test Set ####\n",
      "\n",
      "---  Confusion Matrix  ---\n",
      "          Predicted 0  Predicted 1\n",
      "Actual 0         2166         3131\n",
      "Actual 1         1885         5266\n",
      "\n",
      "\n",
      "---  Classification Report  ---\n",
      "              precision    recall  f1-score   support\n",
      "\n",
      "           0       0.53      0.41      0.46      5297\n",
      "           1       0.63      0.74      0.68      7151\n",
      "\n",
      "    accuracy                           0.60     12448\n",
      "   macro avg       0.58      0.57      0.57     12448\n",
      "weighted avg       0.59      0.60      0.59     12448\n",
      "\n"
     ]
    }
   ],
   "source": [
    "clf_performance(X_train=X_train, y_train=y_train,\n",
    "                X_test=X_test, y_test=y_test,\n",
    "                pipeline=pipeline_clf,\n",
    "                label_map=label_map)"
   ]
  },
  {
   "cell_type": "markdown",
   "metadata": {},
   "source": [
    "#### Which pipeline to choose?\n",
    "\n",
    "We fitted 3 pipelines:\n",
    "\n",
    "- Regression\n",
    "- Regression with PCA\n",
    "- Classifier"
   ]
  },
  {
   "cell_type": "code",
   "execution_count": 49,
   "metadata": {},
   "outputs": [
    {
     "data": {
      "text/plain": [
       "Pipeline(steps=[('OrdinalCategoricalEncoder',\n",
       "                 OrdinalEncoder(encoding_method='arbitrary',\n",
       "                                variables=['SEX', 'INTUBED', 'PNEUMONIA',\n",
       "                                           'DIABETES', 'COPD', 'ASTHMA',\n",
       "                                           'INMSUPR', 'HIPERTENSION',\n",
       "                                           'OTHER_DISEASE', 'CARDIOVASCULAR',\n",
       "                                           'OBESITY', 'RENAL_CHRONIC',\n",
       "                                           'TOBACCO', 'ICU'])),\n",
       "                ('SmartCorrelatedSelection',\n",
       "                 SmartCorrelatedSelection(method='spearman',\n",
       "                                          selection_method='vari...\n",
       "                                          variables=['SEX', 'INTUBED',\n",
       "                                                     'PNEUMONIA', 'AGE',\n",
       "                                                     'DIABETES', 'COPD',\n",
       "                                                     'ASTHMA', 'INMSUPR',\n",
       "                                                     'HIPERTENSION',\n",
       "                                                     'OTHER_DISEASE',\n",
       "                                                     'CARDIOVASCULAR',\n",
       "                                                     'OBESITY', 'RENAL_CHRONIC',\n",
       "                                                     'TOBACCO', 'ICU'])),\n",
       "                ('feat_scaling', StandardScaler()),\n",
       "                ('feat_selection',\n",
       "                 SelectFromModel(estimator=AdaBoostClassifier(random_state=0))),\n",
       "                ('model',\n",
       "                 AdaBoostClassifier(learning_rate=0.1, n_estimators=300,\n",
       "                                    random_state=0))])"
      ]
     },
     "execution_count": 49,
     "metadata": {},
     "output_type": "execute_result"
    }
   ],
   "source": [
    "pipeline_clf"
   ]
  },
  {
   "cell_type": "markdown",
   "metadata": {},
   "source": [
    "#### Refit pipeline with best features\n",
    "\n",
    "Rewrite Pipeline"
   ]
  },
  {
   "cell_type": "code",
   "execution_count": 50,
   "metadata": {},
   "outputs": [],
   "source": [
    "def PipelineOptimization(model):\n",
    "    pipeline_base = Pipeline([\n",
    "        (\"OrdinalCategoricalEncoder\", OrdinalEncoder(\n",
    "            encoding_method='arbitrary',\n",
    "            variables=['PNEUMONIA', 'HIPERTENSION']\n",
    "        )),\n",
    "        (\"feat_scaling\", StandardScaler()),\n",
    "        (\"model\", model),\n",
    "    ])\n",
    "    return pipeline_base"
   ]
  },
  {
   "cell_type": "markdown",
   "metadata": {},
   "source": [
    "Define best features"
   ]
  },
  {
   "cell_type": "code",
   "execution_count": 51,
   "metadata": {},
   "outputs": [],
   "source": [
    "best_features = ['AGE', 'PNEUMONIA', 'HIPERTENSION']"
   ]
  },
  {
   "cell_type": "markdown",
   "metadata": {},
   "source": [
    "Filter the data to include only the best features"
   ]
  },
  {
   "cell_type": "code",
   "execution_count": 52,
   "metadata": {},
   "outputs": [],
   "source": [
    "X_train_best = X_train[best_features]\n",
    "X_test_best = X_test[best_features]"
   ]
  },
  {
   "cell_type": "markdown",
   "metadata": {},
   "source": [
    "Define and fit the pipeline"
   ]
  },
  {
   "cell_type": "code",
   "execution_count": 53,
   "metadata": {},
   "outputs": [
    {
     "data": {
      "text/plain": [
       "Pipeline(steps=[('OrdinalCategoricalEncoder',\n",
       "                 OrdinalEncoder(encoding_method='arbitrary',\n",
       "                                variables=['PNEUMONIA', 'HIPERTENSION'])),\n",
       "                ('feat_scaling', StandardScaler()),\n",
       "                ('model', LogisticRegression(random_state=0))])"
      ]
     },
     "execution_count": 53,
     "metadata": {},
     "output_type": "execute_result"
    }
   ],
   "source": [
    "pipeline_best = PipelineOptimization(LogisticRegression(random_state=0))\n",
    "pipeline_best.fit(X_train_best, y_train)"
   ]
  },
  {
   "cell_type": "markdown",
   "metadata": {},
   "source": [
    "#### Split Train Test Set, only with best features"
   ]
  },
  {
   "cell_type": "code",
   "execution_count": 54,
   "metadata": {},
   "outputs": [
    {
     "name": "stdout",
     "output_type": "stream",
     "text": [
      "* Train set: (49788, 3) (49788,) \n",
      "* Test set: (12448, 3) (12448,)\n"
     ]
    }
   ],
   "source": [
    "X_train, X_test, y_train, y_test = train_test_split(\n",
    "    df_clf.drop(['DIED'], axis=1),\n",
    "    df_clf['DIED'],\n",
    "    test_size=0.2,\n",
    "    random_state=0\n",
    ")\n",
    "\n",
    "print(\"* Train set:\", X_train_best.shape, y_train.shape,\n",
    "      \"\\n* Test set:\", X_test_best.shape, y_test.shape)"
   ]
  },
  {
   "cell_type": "markdown",
   "metadata": {},
   "source": [
    "### Save the Model and Artifacts"
   ]
  },
  {
   "cell_type": "code",
   "execution_count": 55,
   "metadata": {},
   "outputs": [
    {
     "name": "stdout",
     "output_type": "stream",
     "text": [
      "[Errno 17] File exists: 'outputs/ml_pipeline/predict_severity/v1'\n",
      "Model saved at outputs/ml_pipeline/predict_severity/v1/regressor_pipeline.pkl\n"
     ]
    }
   ],
   "source": [
    "import joblib\n",
    "import os\n",
    "\n",
    "version = 'v1'\n",
    "file_path = f'outputs/ml_pipeline/predict_severity/{version}'\n",
    "\n",
    "try:\n",
    "    os.makedirs(name=file_path)\n",
    "except Exception as e:\n",
    "    print(e)\n",
    "\n",
    "joblib.dump(value=best_regressor_pipeline, filename=f\"{file_path}/regressor_pipeline.pkl\")\n",
    "print(f'Model saved at {file_path}/regressor_pipeline.pkl')\n",
    "\n",
    "X_train.to_csv(f\"{file_path}/X_train.csv\", index=False)\n",
    "X_test.to_csv(f\"{file_path}/X_test.csv\", index=False)\n",
    "y_train.to_csv(f\"{file_path}/y_train.csv\", index=False)\n",
    "y_test.to_csv(f\"{file_path}/y_test.csv\", index=False)"
   ]
  },
  {
   "cell_type": "markdown",
   "metadata": {},
   "source": [
    "### Modelling pipeline\n",
    "\n",
    "ML pipeline for predicting"
   ]
  },
  {
   "cell_type": "code",
   "execution_count": 56,
   "metadata": {},
   "outputs": [
    {
     "data": {
      "text/plain": [
       "Pipeline(steps=[('OrdinalCategoricalEncoder',\n",
       "                 OrdinalEncoder(encoding_method='arbitrary',\n",
       "                                variables=['SEX', 'INTUBED', 'PNEUMONIA',\n",
       "                                           'DIABETES', 'COPD', 'ASTHMA',\n",
       "                                           'INMSUPR', 'HIPERTENSION',\n",
       "                                           'OTHER_DISEASE', 'CARDIOVASCULAR',\n",
       "                                           'OBESITY', 'RENAL_CHRONIC',\n",
       "                                           'TOBACCO', 'ICU'])),\n",
       "                ('SmartCorrelatedSelection',\n",
       "                 SmartCorrelatedSelection(method='spearman',\n",
       "                                          selection_method='vari...\n",
       "                                          variables=['SEX', 'INTUBED',\n",
       "                                                     'PNEUMONIA', 'AGE',\n",
       "                                                     'DIABETES', 'COPD',\n",
       "                                                     'ASTHMA', 'INMSUPR',\n",
       "                                                     'HIPERTENSION',\n",
       "                                                     'OTHER_DISEASE',\n",
       "                                                     'CARDIOVASCULAR',\n",
       "                                                     'OBESITY', 'RENAL_CHRONIC',\n",
       "                                                     'TOBACCO', 'ICU'])),\n",
       "                ('feat_scaling', StandardScaler()),\n",
       "                ('feat_selection',\n",
       "                 SelectFromModel(estimator=AdaBoostClassifier(random_state=0))),\n",
       "                ('model',\n",
       "                 AdaBoostClassifier(learning_rate=0.1, n_estimators=300,\n",
       "                                    random_state=0))])"
      ]
     },
     "execution_count": 56,
     "metadata": {},
     "output_type": "execute_result"
    }
   ],
   "source": [
    "pipeline_clf"
   ]
  },
  {
   "cell_type": "code",
   "execution_count": 57,
   "metadata": {},
   "outputs": [
    {
     "data": {
      "text/plain": [
       "['outputs/ml_pipeline/predict_severity/v1/clf_pipeline.pkl']"
      ]
     },
     "execution_count": 57,
     "metadata": {},
     "output_type": "execute_result"
    }
   ],
   "source": [
    "joblib.dump(value=pipeline_clf, filename=f\"{file_path}/clf_pipeline.pkl\")"
   ]
  },
  {
   "cell_type": "markdown",
   "metadata": {},
   "source": [
    "#### List mapping target levels to ranges\n",
    "\n",
    "Map for converting numerical variable to categorical variable"
   ]
  },
  {
   "cell_type": "code",
   "execution_count": 58,
   "metadata": {},
   "outputs": [
    {
     "data": {
      "text/plain": [
       "['<30.0',\n",
       " '30.0 to 41.0',\n",
       " '41.0 to 48.0',\n",
       " '48.0 to 53.0',\n",
       " '53.0 to 58.0',\n",
       " '58.0 to 63.0',\n",
       " '63.0 to 68.0',\n",
       " '68.0 to 73.0',\n",
       " '73.0 to 80.0',\n",
       " '>80.0']"
      ]
     },
     "execution_count": 58,
     "metadata": {},
     "output_type": "execute_result"
    }
   ],
   "source": [
    "label_map"
   ]
  },
  {
   "cell_type": "code",
   "execution_count": 59,
   "metadata": {},
   "outputs": [
    {
     "data": {
      "text/plain": [
       "['outputs/ml_pipeline/predict_severity/v1/label_map.pkl']"
      ]
     },
     "execution_count": 59,
     "metadata": {},
     "output_type": "execute_result"
    }
   ],
   "source": [
    "joblib.dump(value=label_map, filename=f\"{file_path}/label_map.pkl\")"
   ]
  },
  {
   "cell_type": "markdown",
   "metadata": {},
   "source": [
    "#### Feature importance plot"
   ]
  },
  {
   "cell_type": "code",
   "execution_count": 60,
   "metadata": {},
   "outputs": [
    {
     "data": {
      "image/png": "[encoded data removed]",
      "text/plain": [
       "<Figure size 640x480 with 1 Axes>"
      ]
     },
     "metadata": {},
     "output_type": "display_data"
    }
   ],
   "source": [
    "df_feature_importance.plot(kind='bar', x='Feature', y='Importance')\n",
    "plt.show()"
   ]
  },
  {
   "cell_type": "code",
   "execution_count": 61,
   "metadata": {},
   "outputs": [
    {
     "data": {
      "image/png": "[encoded data removed]",
      "text/plain": [
       "<Figure size 640x480 with 1 Axes>"
      ]
     },
     "metadata": {},
     "output_type": "display_data"
    }
   ],
   "source": [
    "df_feature_importance.plot(kind='bar',x='Feature',y='Importance')\n",
    "plt.savefig(f'{file_path}/features_importance.png', bbox_inches='tight')"
   ]
  }
 ],
 "metadata": {
  "kernelspec": {
   "display_name": "Python 3",
   "language": "python",
   "name": "python3"
  },
  "language_info": {
   "codemirror_mode": {
    "name": "ipython",
    "version": 3
   },
   "file_extension": ".py",
   "mimetype": "text/x-python",
   "name": "python",
   "nbconvert_exporter": "python",
   "pygments_lexer": "ipython3",
   "version": "3.8.18"
  }
 },
 "nbformat": 4,
 "nbformat_minor": 2
}
